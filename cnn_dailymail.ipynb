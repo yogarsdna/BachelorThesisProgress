{
 "cells": [
  {
   "cell_type": "code",
   "execution_count": 43,
   "id": "328ca06d",
   "metadata": {},
   "outputs": [
    {
     "name": "stderr",
     "output_type": "stream",
     "text": [
      "[nltk_data] Downloading package punkt to\n",
      "[nltk_data]     C:\\Users\\Yoga\\AppData\\Roaming\\nltk_data...\n",
      "[nltk_data]   Package punkt is already up-to-date!\n"
     ]
    },
    {
     "data": {
      "text/plain": [
       "True"
      ]
     },
     "execution_count": 43,
     "metadata": {},
     "output_type": "execute_result"
    }
   ],
   "source": [
    "import nltk\n",
    "import gensim\n",
    "import numpy as np\n",
    "import pandas as pd\n",
    "import networkx as nx\n",
    "import tensorflow as tf\n",
    "import matplotlib.pyplot as plt\n",
    "import tensorflow_datasets as tfds\n",
    "from gensim import corpora\n",
    "from heapq import nlargest\n",
    "from collections import Counter\n",
    "from nltk.corpus import stopwords\n",
    "from rouge_score import rouge_scorer\n",
    "from nltk import sent_tokenize, word_tokenize\n",
    "from sklearn.decomposition import PCA, TruncatedSVD\n",
    "from sklearn.metrics.pairwise import cosine_similarity\n",
    "from tensorflow.keras.preprocessing.text import Tokenizer\n",
    "from tensorflow.keras.preprocessing.sequence import pad_sequences\n",
    "from nltk.translate.bleu_score import sentence_bleu, corpus_bleu\n",
    "from sklearn.feature_extraction.text import TfidfVectorizer, CountVectorizer\n",
    "nltk.download('punkt')"
   ]
  },
  {
   "cell_type": "code",
   "execution_count": 2,
   "id": "ef1eff99",
   "metadata": {},
   "outputs": [],
   "source": [
    "cnn_train = pd.read_csv('cnn_dailymail/train.csv')\n",
    "cnn_test = pd.read_csv('cnn_dailymail/test.csv')\n",
    "cnn_val = pd.read_csv('cnn_dailymail/validation.csv')"
   ]
  },
  {
   "cell_type": "code",
   "execution_count": 3,
   "id": "d8145437",
   "metadata": {},
   "outputs": [],
   "source": [
    "cnn_train.drop(\"id\", axis=1, inplace=True)\n",
    "cnn_test.drop(\"id\", axis=1, inplace=True)\n",
    "cnn_val.drop(\"id\", axis=1, inplace=True)"
   ]
  },
  {
   "cell_type": "markdown",
   "id": "a91f30be",
   "metadata": {},
   "source": [
    "## <center>Data Cleaning</center>"
   ]
  },
  {
   "cell_type": "code",
   "execution_count": 4,
   "id": "bd266f29",
   "metadata": {},
   "outputs": [],
   "source": [
    "def remove_stopwords(text):\n",
    "    # Tokenize the text into words\n",
    "    words = text.split()\n",
    "\n",
    "    # Remove stop words\n",
    "    stop_words = set(stopwords.words('english'))\n",
    "    words = [word for word in words if word not in stop_words]\n",
    "\n",
    "    # Join the words back into cleaned text\n",
    "    cleaned_text = ' '.join(words)\n",
    "\n",
    "    return cleaned_text"
   ]
  },
  {
   "cell_type": "code",
   "execution_count": 5,
   "id": "3daea742",
   "metadata": {},
   "outputs": [],
   "source": [
    "cnn_train['cleaned_article'] = cnn_train['article'].apply(remove_stopwords)\n",
    "cnn_train['cleaned_highlights'] = cnn_train['highlights'].apply(remove_stopwords)"
   ]
  },
  {
   "cell_type": "code",
   "execution_count": 6,
   "id": "30b899dd",
   "metadata": {},
   "outputs": [],
   "source": [
    "cnn_test['cleaned_article'] = cnn_test['article'].apply(remove_stopwords)\n",
    "cnn_test['cleaned_highlights'] = cnn_test['highlights'].apply(remove_stopwords)"
   ]
  },
  {
   "cell_type": "code",
   "execution_count": 7,
   "id": "d2ff5279",
   "metadata": {},
   "outputs": [],
   "source": [
    "cnn_val['cleaned_article'] = cnn_val['article'].apply(remove_stopwords)\n",
    "cnn_val['cleaned_highlights'] = cnn_val['highlights'].apply(remove_stopwords)"
   ]
  },
  {
   "cell_type": "markdown",
   "id": "e465302a",
   "metadata": {},
   "source": [
    "## <center>Techniques</center>"
   ]
  },
  {
   "cell_type": "markdown",
   "id": "5350fa4c",
   "metadata": {},
   "source": [
    "### Luhn Method"
   ]
  },
  {
   "cell_type": "code",
   "execution_count": 8,
   "id": "be49791f",
   "metadata": {},
   "outputs": [],
   "source": [
    "def luhn_summarize(article, num_sentences):\n",
    "    # Tokenize the article into sentences\n",
    "    sentences = sent_tokenize(article)\n",
    "    \n",
    "    # Tokenize the entire article into words\n",
    "    words = word_tokenize(article)\n",
    "    \n",
    "    # Calculate word frequencies using Counter\n",
    "    word_frequencies = Counter(words)\n",
    "\n",
    "    # Initialize a dictionary to store sentence scores\n",
    "    sentence_scores = {}\n",
    "\n",
    "    # Calculate scores for each sentence\n",
    "    for sentence in sentences:\n",
    "        # Tokenize the sentence into words and convert to lowercase\n",
    "        for word in word_tokenize(sentence.lower()):\n",
    "            # Check if the word is in the word frequencies\n",
    "            if word in word_frequencies:\n",
    "                # If the sentence is not in the scores dictionary, initialize it\n",
    "                if sentence not in sentence_scores:\n",
    "                    sentence_scores[sentence] = word_frequencies[word]\n",
    "                else:\n",
    "                    # If the sentence is already in the dictionary, add the word's frequency\n",
    "                    sentence_scores[sentence] += word_frequencies[word]\n",
    "\n",
    "    # Get the top 'num_sentences' sentences with the highest scores\n",
    "    summary_sentences = nlargest(num_sentences, sentence_scores, key=sentence_scores.get)\n",
    "\n",
    "    # Combine the selected sentences to create the summary\n",
    "    summary = ' '.join(summary_sentences)\n",
    "    \n",
    "    return summary"
   ]
  },
  {
   "cell_type": "code",
   "execution_count": 9,
   "id": "890bc9fe",
   "metadata": {},
   "outputs": [],
   "source": [
    "# Apply Luhn Method to each article in the training dataset and store summaries\n",
    "cnn_train['luhn_summary'] = cnn_train['cleaned_article'].apply(lambda x: luhn_summarize(x, num_sentences=3))\n",
    "\n",
    "# Apply Luhn Method to each article in the testing dataset and store summaries\n",
    "cnn_test['luhn_summary'] = cnn_test['cleaned_article'].apply(lambda x: luhn_summarize(x, num_sentences=3))\n",
    "\n",
    "# Apply Luhn Method to each article in the validation dataset and store summaries\n",
    "cnn_val['luhn_summary'] = cnn_val['cleaned_article'].apply(lambda x: luhn_summarize(x, num_sentences=3))"
   ]
  },
  {
   "cell_type": "code",
   "execution_count": null,
   "id": "696e11f3",
   "metadata": {},
   "outputs": [],
   "source": [
    "# Save the results to new CSV files for each dataset\n",
    "cnn_train.to_csv(\"cnn_train_with_luhn_summaries.csv\", index=False)\n",
    "cnn_test.to_csv(\"cnn_test_with_luhn_summaries.csv\", index=False)\n",
    "cnn_val.to_csv(\"cnn_val_with_luhn_summaries.csv\", index=False)"
   ]
  },
  {
   "cell_type": "code",
   "execution_count": 10,
   "id": "38569be4",
   "metadata": {},
   "outputs": [],
   "source": [
    "# Define a function to calculate ROUGE scores\n",
    "def calculate_rouge_scores(df):\n",
    "    # Initialize the ROUGE scorer\n",
    "    rouge = rouge_scorer.RougeScorer(['rouge1', 'rouge2', 'rougeL'], use_stemmer=True)\n",
    "\n",
    "    # Lists to store the ROUGE scores\n",
    "    rouge1_scores = []\n",
    "    rouge2_scores = []\n",
    "    rougeL_scores = []\n",
    "\n",
    "    for _, row in df.iterrows():\n",
    "        reference_summary = row['cleaned_highlights']\n",
    "        luhn_summary = row['luhn_summary']\n",
    "\n",
    "        # Check if reference_summary or luhn_summary is None or empty\n",
    "        if reference_summary is None or luhn_summary is None or reference_summary == \"\" or luhn_summary == \"\":\n",
    "            # Append 0.0 for precision, recall, and fmeasure\n",
    "            rouge1_scores.append([{'precision': 0.0, 'recall': 0.0, 'fmeasure': 0.0}])\n",
    "            rouge2_scores.append([{'precision': 0.0, 'recall': 0.0, 'fmeasure': 0.0}])\n",
    "            rougeL_scores.append([{'precision': 0.0, 'recall': 0.0, 'fmeasure': 0.0}])\n",
    "            \n",
    "        else:\n",
    "            # Calculate ROUGE scores\n",
    "            scores = rouge.score(luhn_summary, reference_summary)\n",
    "\n",
    "            rouge1_scores.append([{\n",
    "                'precision': round(scores['rouge1'].precision, 2),\n",
    "                'recall': round(scores['rouge1'].recall, 2),\n",
    "                'fmeasure': round(scores['rouge1'].fmeasure, 2)\n",
    "            }])\n",
    "            \n",
    "            rouge2_scores.append([{\n",
    "                'precision': round(scores['rouge2'].precision, 2),\n",
    "                'recall': round(scores['rouge2'].recall, 2),\n",
    "                'fmeasure': round(scores['rouge2'].fmeasure, 2)\n",
    "            }])\n",
    "            \n",
    "            rougeL_scores.append([{\n",
    "                'precision': round(scores['rougeL'].precision, 2),\n",
    "                'recall': round(scores['rougeL'].recall, 2),\n",
    "                'fmeasure': round(scores['rougeL'].fmeasure, 2)\n",
    "            }])\n",
    "\n",
    "    df['rouge1'] = rouge1_scores\n",
    "    df['rouge2'] = rouge2_scores\n",
    "    df['rougeL'] = rougeL_scores\n",
    "    \n",
    "    # Print the ROUGE scores for the first row for debugging\n",
    "    print(\"Rouge1 Scores:\", rouge1_scores[0])\n",
    "    print(\"Rouge2 Scores:\", rouge2_scores[0])\n",
    "    print(\"RougeL Scores:\", rougeL_scores[0])"
   ]
  },
  {
   "cell_type": "code",
   "execution_count": 11,
   "id": "0dffbc5e",
   "metadata": {},
   "outputs": [
    {
     "name": "stdout",
     "output_type": "stream",
     "text": [
      "Rouge1 Scores: [{'precision': 0.55, 'recall': 0.22, 'fmeasure': 0.32}]\n",
      "Rouge2 Scores: [{'precision': 0.38, 'recall': 0.15, 'fmeasure': 0.22}]\n",
      "RougeL Scores: [{'precision': 0.55, 'recall': 0.22, 'fmeasure': 0.32}]\n"
     ]
    }
   ],
   "source": [
    "# Calculate ROUGE scores for train dataset\n",
    "calculate_rouge_scores(cnn_train)"
   ]
  },
  {
   "cell_type": "code",
   "execution_count": 12,
   "id": "3fe77026",
   "metadata": {},
   "outputs": [
    {
     "name": "stdout",
     "output_type": "stream",
     "text": [
      "Rouge1 Scores: [{'precision': 0.28, 'recall': 0.12, 'fmeasure': 0.16}]\n",
      "Rouge2 Scores: [{'precision': 0.08, 'recall': 0.03, 'fmeasure': 0.05}]\n",
      "RougeL Scores: [{'precision': 0.24, 'recall': 0.1, 'fmeasure': 0.14}]\n"
     ]
    }
   ],
   "source": [
    "# Calculate ROUGE scores for test dataset\n",
    "calculate_rouge_scores(cnn_test)"
   ]
  },
  {
   "cell_type": "code",
   "execution_count": 13,
   "id": "31017648",
   "metadata": {},
   "outputs": [
    {
     "name": "stdout",
     "output_type": "stream",
     "text": [
      "Rouge1 Scores: [{'precision': 0.5, 'recall': 0.26, 'fmeasure': 0.34}]\n",
      "Rouge2 Scores: [{'precision': 0.38, 'recall': 0.2, 'fmeasure': 0.26}]\n",
      "RougeL Scores: [{'precision': 0.45, 'recall': 0.24, 'fmeasure': 0.31}]\n"
     ]
    }
   ],
   "source": [
    "# Calculate ROUGE scores for validation dataset\n",
    "calculate_rouge_scores(cnn_val)"
   ]
  },
  {
   "cell_type": "code",
   "execution_count": null,
   "id": "97b028b3",
   "metadata": {},
   "outputs": [],
   "source": [
    "# Save the train dataset with ROUGE scores\n",
    "cnn_train.to_csv(\"cnn_test_with_rouge_scores.csv\", index=False)\n",
    "\n",
    "# Save the test dataset with ROUGE scores\n",
    "cnn_test.to_csv(\"cnn_test_with_rouge_scores.csv\", index=False)\n",
    "\n",
    "# Save the validation dataset with ROUGE scores\n",
    "cnn_val.to_csv(\"cnn_val_with_rouge_scores.csv\", index=False)"
   ]
  },
  {
   "cell_type": "markdown",
   "id": "31e02b77",
   "metadata": {},
   "source": [
    "### TextRank"
   ]
  },
  {
   "cell_type": "code",
   "execution_count": 34,
   "id": "0a6bd35f",
   "metadata": {},
   "outputs": [],
   "source": [
    "def textrank_summarize(article, num_sentences):\n",
    "    # Tokenize the article into sentences\n",
    "    sentences = sent_tokenize(article)\n",
    "\n",
    "    # Check if there are sentences to summarize\n",
    "    if not sentences:\n",
    "        return \"No sentences to summarize\"\n",
    "\n",
    "    # Vectorize sentences using CountVectorizer\n",
    "    vectorizer = CountVectorizer()\n",
    "    X = vectorizer.fit_transform(sentences)\n",
    "    vectors = X.toarray()\n",
    "\n",
    "    # Calculate cosine similarity between sentence vectors\n",
    "    similarity_matrix = cosine_similarity(vectors, vectors)\n",
    "\n",
    "    # Create a graph representation of sentences\n",
    "    sentence_graph = nx.Graph()\n",
    "    threshold = 0.2  # You can adjust this threshold based on your data\n",
    "    for i in range(len(sentences)):\n",
    "        for j in range(i + 1, len(sentences)):  # Avoid self-connecting and duplicate edges\n",
    "            if similarity_matrix[i][j] >= threshold:\n",
    "                sentence_graph.add_edge(i, j, weight=similarity_matrix[i][j])\n",
    "\n",
    "    # Check if there are no edges in the sentence graph\n",
    "    if len(sentence_graph.edges) == 0:\n",
    "        return \"Not enough connections for summarization\"\n",
    "\n",
    "    # Calculate TextRank scores\n",
    "    scores = nx.pagerank(sentence_graph)\n",
    "\n",
    "    # Sort sentences by their TextRank scores\n",
    "    ranked_sentences = sorted(((scores[i], sentence) for i, sentence in enumerate(sentences)), reverse=True)\n",
    "\n",
    "    # Get the top 'num_sentences' sentences for the summary\n",
    "    summary_sentences = [sentence for score, sentence in ranked_sentences[:num_sentences]]\n",
    "\n",
    "    # Combine selected sentences into the summary\n",
    "    summary = ' '.join(summary_sentences)\n",
    "    return summary"
   ]
  },
  {
   "cell_type": "code",
   "execution_count": 35,
   "id": "b4a42617",
   "metadata": {},
   "outputs": [
    {
     "ename": "KeyError",
     "evalue": "0",
     "output_type": "error",
     "traceback": [
      "\u001b[1;31m---------------------------------------------------------------------------\u001b[0m",
      "\u001b[1;31mKeyError\u001b[0m                                  Traceback (most recent call last)",
      "Input \u001b[1;32mIn [35]\u001b[0m, in \u001b[0;36m<cell line: 2>\u001b[1;34m()\u001b[0m\n\u001b[0;32m      1\u001b[0m \u001b[38;5;66;03m# Apply TextRank summarization to the train dataset\u001b[39;00m\n\u001b[1;32m----> 2\u001b[0m cnn_train[\u001b[38;5;124m'\u001b[39m\u001b[38;5;124mtextrank_summary\u001b[39m\u001b[38;5;124m'\u001b[39m] \u001b[38;5;241m=\u001b[39m \u001b[43mcnn_train\u001b[49m\u001b[43m[\u001b[49m\u001b[38;5;124;43m'\u001b[39;49m\u001b[38;5;124;43mcleaned_article\u001b[39;49m\u001b[38;5;124;43m'\u001b[39;49m\u001b[43m]\u001b[49m\u001b[38;5;241;43m.\u001b[39;49m\u001b[43mapply\u001b[49m\u001b[43m(\u001b[49m\u001b[38;5;28;43;01mlambda\u001b[39;49;00m\u001b[43m \u001b[49m\u001b[43mx\u001b[49m\u001b[43m:\u001b[49m\u001b[43m \u001b[49m\u001b[43mtextrank_summarize\u001b[49m\u001b[43m(\u001b[49m\u001b[43mx\u001b[49m\u001b[43m,\u001b[49m\u001b[43m \u001b[49m\u001b[43mnum_sentences\u001b[49m\u001b[38;5;241;43m=\u001b[39;49m\u001b[38;5;241;43m3\u001b[39;49m\u001b[43m)\u001b[49m\u001b[43m)\u001b[49m\n\u001b[0;32m      4\u001b[0m \u001b[38;5;66;03m# Apply TextRank summarization to the test dataset\u001b[39;00m\n\u001b[0;32m      5\u001b[0m cnn_test[\u001b[38;5;124m'\u001b[39m\u001b[38;5;124mtextrank_summary\u001b[39m\u001b[38;5;124m'\u001b[39m] \u001b[38;5;241m=\u001b[39m cnn_test[\u001b[38;5;124m'\u001b[39m\u001b[38;5;124mcleaned_article\u001b[39m\u001b[38;5;124m'\u001b[39m]\u001b[38;5;241m.\u001b[39mapply(\u001b[38;5;28;01mlambda\u001b[39;00m x: textrank_summarize(x, num_sentences\u001b[38;5;241m=\u001b[39m\u001b[38;5;241m3\u001b[39m))\n",
      "File \u001b[1;32mD:\\anaconda3\\lib\\site-packages\\pandas\\core\\series.py:4433\u001b[0m, in \u001b[0;36mSeries.apply\u001b[1;34m(self, func, convert_dtype, args, **kwargs)\u001b[0m\n\u001b[0;32m   4323\u001b[0m \u001b[38;5;28;01mdef\u001b[39;00m \u001b[38;5;21mapply\u001b[39m(\n\u001b[0;32m   4324\u001b[0m     \u001b[38;5;28mself\u001b[39m,\n\u001b[0;32m   4325\u001b[0m     func: AggFuncType,\n\u001b[1;32m   (...)\u001b[0m\n\u001b[0;32m   4328\u001b[0m     \u001b[38;5;241m*\u001b[39m\u001b[38;5;241m*\u001b[39mkwargs,\n\u001b[0;32m   4329\u001b[0m ) \u001b[38;5;241m-\u001b[39m\u001b[38;5;241m>\u001b[39m DataFrame \u001b[38;5;241m|\u001b[39m Series:\n\u001b[0;32m   4330\u001b[0m     \u001b[38;5;124;03m\"\"\"\u001b[39;00m\n\u001b[0;32m   4331\u001b[0m \u001b[38;5;124;03m    Invoke function on values of Series.\u001b[39;00m\n\u001b[0;32m   4332\u001b[0m \n\u001b[1;32m   (...)\u001b[0m\n\u001b[0;32m   4431\u001b[0m \u001b[38;5;124;03m    dtype: float64\u001b[39;00m\n\u001b[0;32m   4432\u001b[0m \u001b[38;5;124;03m    \"\"\"\u001b[39;00m\n\u001b[1;32m-> 4433\u001b[0m     \u001b[38;5;28;01mreturn\u001b[39;00m \u001b[43mSeriesApply\u001b[49m\u001b[43m(\u001b[49m\u001b[38;5;28;43mself\u001b[39;49m\u001b[43m,\u001b[49m\u001b[43m \u001b[49m\u001b[43mfunc\u001b[49m\u001b[43m,\u001b[49m\u001b[43m \u001b[49m\u001b[43mconvert_dtype\u001b[49m\u001b[43m,\u001b[49m\u001b[43m \u001b[49m\u001b[43margs\u001b[49m\u001b[43m,\u001b[49m\u001b[43m \u001b[49m\u001b[43mkwargs\u001b[49m\u001b[43m)\u001b[49m\u001b[38;5;241;43m.\u001b[39;49m\u001b[43mapply\u001b[49m\u001b[43m(\u001b[49m\u001b[43m)\u001b[49m\n",
      "File \u001b[1;32mD:\\anaconda3\\lib\\site-packages\\pandas\\core\\apply.py:1088\u001b[0m, in \u001b[0;36mSeriesApply.apply\u001b[1;34m(self)\u001b[0m\n\u001b[0;32m   1084\u001b[0m \u001b[38;5;28;01mif\u001b[39;00m \u001b[38;5;28misinstance\u001b[39m(\u001b[38;5;28mself\u001b[39m\u001b[38;5;241m.\u001b[39mf, \u001b[38;5;28mstr\u001b[39m):\n\u001b[0;32m   1085\u001b[0m     \u001b[38;5;66;03m# if we are a string, try to dispatch\u001b[39;00m\n\u001b[0;32m   1086\u001b[0m     \u001b[38;5;28;01mreturn\u001b[39;00m \u001b[38;5;28mself\u001b[39m\u001b[38;5;241m.\u001b[39mapply_str()\n\u001b[1;32m-> 1088\u001b[0m \u001b[38;5;28;01mreturn\u001b[39;00m \u001b[38;5;28;43mself\u001b[39;49m\u001b[38;5;241;43m.\u001b[39;49m\u001b[43mapply_standard\u001b[49m\u001b[43m(\u001b[49m\u001b[43m)\u001b[49m\n",
      "File \u001b[1;32mD:\\anaconda3\\lib\\site-packages\\pandas\\core\\apply.py:1143\u001b[0m, in \u001b[0;36mSeriesApply.apply_standard\u001b[1;34m(self)\u001b[0m\n\u001b[0;32m   1137\u001b[0m         values \u001b[38;5;241m=\u001b[39m obj\u001b[38;5;241m.\u001b[39mastype(\u001b[38;5;28mobject\u001b[39m)\u001b[38;5;241m.\u001b[39m_values\n\u001b[0;32m   1138\u001b[0m         \u001b[38;5;66;03m# error: Argument 2 to \"map_infer\" has incompatible type\u001b[39;00m\n\u001b[0;32m   1139\u001b[0m         \u001b[38;5;66;03m# \"Union[Callable[..., Any], str, List[Union[Callable[..., Any], str]],\u001b[39;00m\n\u001b[0;32m   1140\u001b[0m         \u001b[38;5;66;03m# Dict[Hashable, Union[Union[Callable[..., Any], str],\u001b[39;00m\n\u001b[0;32m   1141\u001b[0m         \u001b[38;5;66;03m# List[Union[Callable[..., Any], str]]]]]\"; expected\u001b[39;00m\n\u001b[0;32m   1142\u001b[0m         \u001b[38;5;66;03m# \"Callable[[Any], Any]\"\u001b[39;00m\n\u001b[1;32m-> 1143\u001b[0m         mapped \u001b[38;5;241m=\u001b[39m \u001b[43mlib\u001b[49m\u001b[38;5;241;43m.\u001b[39;49m\u001b[43mmap_infer\u001b[49m\u001b[43m(\u001b[49m\n\u001b[0;32m   1144\u001b[0m \u001b[43m            \u001b[49m\u001b[43mvalues\u001b[49m\u001b[43m,\u001b[49m\n\u001b[0;32m   1145\u001b[0m \u001b[43m            \u001b[49m\u001b[43mf\u001b[49m\u001b[43m,\u001b[49m\u001b[43m  \u001b[49m\u001b[38;5;66;43;03m# type: ignore[arg-type]\u001b[39;49;00m\n\u001b[0;32m   1146\u001b[0m \u001b[43m            \u001b[49m\u001b[43mconvert\u001b[49m\u001b[38;5;241;43m=\u001b[39;49m\u001b[38;5;28;43mself\u001b[39;49m\u001b[38;5;241;43m.\u001b[39;49m\u001b[43mconvert_dtype\u001b[49m\u001b[43m,\u001b[49m\n\u001b[0;32m   1147\u001b[0m \u001b[43m        \u001b[49m\u001b[43m)\u001b[49m\n\u001b[0;32m   1149\u001b[0m \u001b[38;5;28;01mif\u001b[39;00m \u001b[38;5;28mlen\u001b[39m(mapped) \u001b[38;5;129;01mand\u001b[39;00m \u001b[38;5;28misinstance\u001b[39m(mapped[\u001b[38;5;241m0\u001b[39m], ABCSeries):\n\u001b[0;32m   1150\u001b[0m     \u001b[38;5;66;03m# GH#43986 Need to do list(mapped) in order to get treated as nested\u001b[39;00m\n\u001b[0;32m   1151\u001b[0m     \u001b[38;5;66;03m#  See also GH#25959 regarding EA support\u001b[39;00m\n\u001b[0;32m   1152\u001b[0m     \u001b[38;5;28;01mreturn\u001b[39;00m obj\u001b[38;5;241m.\u001b[39m_constructor_expanddim(\u001b[38;5;28mlist\u001b[39m(mapped), index\u001b[38;5;241m=\u001b[39mobj\u001b[38;5;241m.\u001b[39mindex)\n",
      "File \u001b[1;32mD:\\anaconda3\\lib\\site-packages\\pandas\\_libs\\lib.pyx:2870\u001b[0m, in \u001b[0;36mpandas._libs.lib.map_infer\u001b[1;34m()\u001b[0m\n",
      "Input \u001b[1;32mIn [35]\u001b[0m, in \u001b[0;36m<lambda>\u001b[1;34m(x)\u001b[0m\n\u001b[0;32m      1\u001b[0m \u001b[38;5;66;03m# Apply TextRank summarization to the train dataset\u001b[39;00m\n\u001b[1;32m----> 2\u001b[0m cnn_train[\u001b[38;5;124m'\u001b[39m\u001b[38;5;124mtextrank_summary\u001b[39m\u001b[38;5;124m'\u001b[39m] \u001b[38;5;241m=\u001b[39m cnn_train[\u001b[38;5;124m'\u001b[39m\u001b[38;5;124mcleaned_article\u001b[39m\u001b[38;5;124m'\u001b[39m]\u001b[38;5;241m.\u001b[39mapply(\u001b[38;5;28;01mlambda\u001b[39;00m x: \u001b[43mtextrank_summarize\u001b[49m\u001b[43m(\u001b[49m\u001b[43mx\u001b[49m\u001b[43m,\u001b[49m\u001b[43m \u001b[49m\u001b[43mnum_sentences\u001b[49m\u001b[38;5;241;43m=\u001b[39;49m\u001b[38;5;241;43m3\u001b[39;49m\u001b[43m)\u001b[49m)\n\u001b[0;32m      4\u001b[0m \u001b[38;5;66;03m# Apply TextRank summarization to the test dataset\u001b[39;00m\n\u001b[0;32m      5\u001b[0m cnn_test[\u001b[38;5;124m'\u001b[39m\u001b[38;5;124mtextrank_summary\u001b[39m\u001b[38;5;124m'\u001b[39m] \u001b[38;5;241m=\u001b[39m cnn_test[\u001b[38;5;124m'\u001b[39m\u001b[38;5;124mcleaned_article\u001b[39m\u001b[38;5;124m'\u001b[39m]\u001b[38;5;241m.\u001b[39mapply(\u001b[38;5;28;01mlambda\u001b[39;00m x: textrank_summarize(x, num_sentences\u001b[38;5;241m=\u001b[39m\u001b[38;5;241m3\u001b[39m))\n",
      "Input \u001b[1;32mIn [34]\u001b[0m, in \u001b[0;36mtextrank_summarize\u001b[1;34m(article, num_sentences)\u001b[0m\n\u001b[0;32m     30\u001b[0m scores \u001b[38;5;241m=\u001b[39m nx\u001b[38;5;241m.\u001b[39mpagerank(sentence_graph)\n\u001b[0;32m     32\u001b[0m \u001b[38;5;66;03m# Sort sentences by their TextRank scores\u001b[39;00m\n\u001b[1;32m---> 33\u001b[0m ranked_sentences \u001b[38;5;241m=\u001b[39m \u001b[38;5;28;43msorted\u001b[39;49m\u001b[43m(\u001b[49m\u001b[43m(\u001b[49m\u001b[43m(\u001b[49m\u001b[43mscores\u001b[49m\u001b[43m[\u001b[49m\u001b[43mi\u001b[49m\u001b[43m]\u001b[49m\u001b[43m,\u001b[49m\u001b[43m \u001b[49m\u001b[43msentence\u001b[49m\u001b[43m)\u001b[49m\u001b[43m \u001b[49m\u001b[38;5;28;43;01mfor\u001b[39;49;00m\u001b[43m \u001b[49m\u001b[43mi\u001b[49m\u001b[43m,\u001b[49m\u001b[43m \u001b[49m\u001b[43msentence\u001b[49m\u001b[43m \u001b[49m\u001b[38;5;129;43;01min\u001b[39;49;00m\u001b[43m \u001b[49m\u001b[38;5;28;43menumerate\u001b[39;49m\u001b[43m(\u001b[49m\u001b[43msentences\u001b[49m\u001b[43m)\u001b[49m\u001b[43m)\u001b[49m\u001b[43m,\u001b[49m\u001b[43m \u001b[49m\u001b[43mreverse\u001b[49m\u001b[38;5;241;43m=\u001b[39;49m\u001b[38;5;28;43;01mTrue\u001b[39;49;00m\u001b[43m)\u001b[49m\n\u001b[0;32m     35\u001b[0m \u001b[38;5;66;03m# Get the top 'num_sentences' sentences for the summary\u001b[39;00m\n\u001b[0;32m     36\u001b[0m summary_sentences \u001b[38;5;241m=\u001b[39m [sentence \u001b[38;5;28;01mfor\u001b[39;00m score, sentence \u001b[38;5;129;01min\u001b[39;00m ranked_sentences[:num_sentences]]\n",
      "Input \u001b[1;32mIn [34]\u001b[0m, in \u001b[0;36m<genexpr>\u001b[1;34m(.0)\u001b[0m\n\u001b[0;32m     30\u001b[0m scores \u001b[38;5;241m=\u001b[39m nx\u001b[38;5;241m.\u001b[39mpagerank(sentence_graph)\n\u001b[0;32m     32\u001b[0m \u001b[38;5;66;03m# Sort sentences by their TextRank scores\u001b[39;00m\n\u001b[1;32m---> 33\u001b[0m ranked_sentences \u001b[38;5;241m=\u001b[39m \u001b[38;5;28msorted\u001b[39m(((\u001b[43mscores\u001b[49m\u001b[43m[\u001b[49m\u001b[43mi\u001b[49m\u001b[43m]\u001b[49m, sentence) \u001b[38;5;28;01mfor\u001b[39;00m i, sentence \u001b[38;5;129;01min\u001b[39;00m \u001b[38;5;28menumerate\u001b[39m(sentences)), reverse\u001b[38;5;241m=\u001b[39m\u001b[38;5;28;01mTrue\u001b[39;00m)\n\u001b[0;32m     35\u001b[0m \u001b[38;5;66;03m# Get the top 'num_sentences' sentences for the summary\u001b[39;00m\n\u001b[0;32m     36\u001b[0m summary_sentences \u001b[38;5;241m=\u001b[39m [sentence \u001b[38;5;28;01mfor\u001b[39;00m score, sentence \u001b[38;5;129;01min\u001b[39;00m ranked_sentences[:num_sentences]]\n",
      "\u001b[1;31mKeyError\u001b[0m: 0"
     ]
    }
   ],
   "source": [
    "# Apply TextRank summarization to the train dataset\n",
    "cnn_train['textrank_summary'] = cnn_train['cleaned_article'].apply(lambda x: textrank_summarize(x, num_sentences=3))\n",
    "\n",
    "# Apply TextRank summarization to the test dataset\n",
    "cnn_test['textrank_summary'] = cnn_test['cleaned_article'].apply(lambda x: textrank_summarize(x, num_sentences=3))\n",
    "\n",
    "# Apply TextRank summarization to the validation dataset\n",
    "cnn_val['textrank_summary'] = cnn_val['cleaned_article'].apply(lambda x: textrank_summarize(x, num_sentences=3))"
   ]
  },
  {
   "cell_type": "code",
   "execution_count": null,
   "id": "f1465b23",
   "metadata": {},
   "outputs": [],
   "source": [
    "# Save the results to new CSV files\n",
    "cnn_train.to_csv(\"cnn_train_with_textrank_summaries.csv\", index=False)\n",
    "cnn_test.to_csv(\"cnn_test_with_textrank_summaries.csv\", index=False)\n",
    "cnn_val.to_csv(\"cnn_val_with_textrank_summaries.csv\", index=False)"
   ]
  },
  {
   "cell_type": "code",
   "execution_count": null,
   "id": "d4c74565",
   "metadata": {},
   "outputs": [],
   "source": []
  },
  {
   "cell_type": "code",
   "execution_count": null,
   "id": "eb7a2a5c",
   "metadata": {},
   "outputs": [],
   "source": []
  },
  {
   "cell_type": "code",
   "execution_count": null,
   "id": "23c5613f",
   "metadata": {},
   "outputs": [],
   "source": []
  },
  {
   "cell_type": "code",
   "execution_count": null,
   "id": "5b5b7a6c",
   "metadata": {},
   "outputs": [],
   "source": []
  },
  {
   "cell_type": "markdown",
   "id": "7125b9b8",
   "metadata": {},
   "source": [
    "### LexRank"
   ]
  },
  {
   "cell_type": "code",
   "execution_count": 36,
   "id": "096ebef4",
   "metadata": {},
   "outputs": [],
   "source": [
    "from sklearn.feature_extraction.text import TfidfVectorizer\n",
    "from sklearn.metrics.pairwise import cosine_similarity\n",
    "from lexrank import LexRank\n",
    "from lexrank.mappings.stopwords import STOPWORDS\n",
    "from heapq import nlargest\n",
    "from nltk.tokenize import sent_tokenize, word_tokenize\n",
    "from collections import Counter\n",
    "\n",
    "def lexrank_summarize(article, num_sentences):\n",
    "    # Tokenize the article into sentences\n",
    "    sentences = sent_tokenize(article)\n",
    "    \n",
    "    # Vectorize the sentences using TF-IDF\n",
    "    tfidf_vectorizer = TfidfVectorizer()\n",
    "    tfidf_matrix = tfidf_vectorizer.fit_transform(sentences)\n",
    "\n",
    "    # Calculate similarity matrix using cosine similarity\n",
    "    sentence_similarity_matrix = cosine_similarity(tfidf_matrix)\n",
    "\n",
    "    # Apply LexRank\n",
    "    lx = LexRank(sentences, stopwords=STOPWORDS['en'])\n",
    "    summary = lx.get_summary(article, summary_size=num_sentences)\n",
    "\n",
    "    # Combine the selected sentences to create the summary\n",
    "    summary = ' '.join(summary)\n",
    "    \n",
    "    return summary"
   ]
  },
  {
   "cell_type": "code",
   "execution_count": 37,
   "id": "a7cf13cd",
   "metadata": {},
   "outputs": [
    {
     "ename": "ValueError",
     "evalue": "documents are not informative",
     "output_type": "error",
     "traceback": [
      "\u001b[1;31m---------------------------------------------------------------------------\u001b[0m",
      "\u001b[1;31mValueError\u001b[0m                                Traceback (most recent call last)",
      "Input \u001b[1;32mIn [37]\u001b[0m, in \u001b[0;36m<cell line: 2>\u001b[1;34m()\u001b[0m\n\u001b[0;32m      1\u001b[0m \u001b[38;5;66;03m# Apply TextRank summarization to the train dataset\u001b[39;00m\n\u001b[1;32m----> 2\u001b[0m cnn_train[\u001b[38;5;124m'\u001b[39m\u001b[38;5;124mlexrank_summary\u001b[39m\u001b[38;5;124m'\u001b[39m] \u001b[38;5;241m=\u001b[39m \u001b[43mcnn_train\u001b[49m\u001b[43m[\u001b[49m\u001b[38;5;124;43m'\u001b[39;49m\u001b[38;5;124;43mcleaned_article\u001b[39;49m\u001b[38;5;124;43m'\u001b[39;49m\u001b[43m]\u001b[49m\u001b[38;5;241;43m.\u001b[39;49m\u001b[43mapply\u001b[49m\u001b[43m(\u001b[49m\u001b[38;5;28;43;01mlambda\u001b[39;49;00m\u001b[43m \u001b[49m\u001b[43mx\u001b[49m\u001b[43m:\u001b[49m\u001b[43m \u001b[49m\u001b[43mlexrank_summarize\u001b[49m\u001b[43m(\u001b[49m\u001b[43mx\u001b[49m\u001b[43m,\u001b[49m\u001b[43m \u001b[49m\u001b[43mnum_sentences\u001b[49m\u001b[38;5;241;43m=\u001b[39;49m\u001b[38;5;241;43m3\u001b[39;49m\u001b[43m)\u001b[49m\u001b[43m)\u001b[49m\n\u001b[0;32m      4\u001b[0m \u001b[38;5;66;03m# Apply TextRank summarization to the test dataset\u001b[39;00m\n\u001b[0;32m      5\u001b[0m cnn_test[\u001b[38;5;124m'\u001b[39m\u001b[38;5;124mlexrank_summary\u001b[39m\u001b[38;5;124m'\u001b[39m] \u001b[38;5;241m=\u001b[39m cnn_test[\u001b[38;5;124m'\u001b[39m\u001b[38;5;124mcleaned_article\u001b[39m\u001b[38;5;124m'\u001b[39m]\u001b[38;5;241m.\u001b[39mapply(\u001b[38;5;28;01mlambda\u001b[39;00m x: lexrank_summarize(x, num_sentences\u001b[38;5;241m=\u001b[39m\u001b[38;5;241m3\u001b[39m))\n",
      "File \u001b[1;32mD:\\anaconda3\\lib\\site-packages\\pandas\\core\\series.py:4433\u001b[0m, in \u001b[0;36mSeries.apply\u001b[1;34m(self, func, convert_dtype, args, **kwargs)\u001b[0m\n\u001b[0;32m   4323\u001b[0m \u001b[38;5;28;01mdef\u001b[39;00m \u001b[38;5;21mapply\u001b[39m(\n\u001b[0;32m   4324\u001b[0m     \u001b[38;5;28mself\u001b[39m,\n\u001b[0;32m   4325\u001b[0m     func: AggFuncType,\n\u001b[1;32m   (...)\u001b[0m\n\u001b[0;32m   4328\u001b[0m     \u001b[38;5;241m*\u001b[39m\u001b[38;5;241m*\u001b[39mkwargs,\n\u001b[0;32m   4329\u001b[0m ) \u001b[38;5;241m-\u001b[39m\u001b[38;5;241m>\u001b[39m DataFrame \u001b[38;5;241m|\u001b[39m Series:\n\u001b[0;32m   4330\u001b[0m     \u001b[38;5;124;03m\"\"\"\u001b[39;00m\n\u001b[0;32m   4331\u001b[0m \u001b[38;5;124;03m    Invoke function on values of Series.\u001b[39;00m\n\u001b[0;32m   4332\u001b[0m \n\u001b[1;32m   (...)\u001b[0m\n\u001b[0;32m   4431\u001b[0m \u001b[38;5;124;03m    dtype: float64\u001b[39;00m\n\u001b[0;32m   4432\u001b[0m \u001b[38;5;124;03m    \"\"\"\u001b[39;00m\n\u001b[1;32m-> 4433\u001b[0m     \u001b[38;5;28;01mreturn\u001b[39;00m \u001b[43mSeriesApply\u001b[49m\u001b[43m(\u001b[49m\u001b[38;5;28;43mself\u001b[39;49m\u001b[43m,\u001b[49m\u001b[43m \u001b[49m\u001b[43mfunc\u001b[49m\u001b[43m,\u001b[49m\u001b[43m \u001b[49m\u001b[43mconvert_dtype\u001b[49m\u001b[43m,\u001b[49m\u001b[43m \u001b[49m\u001b[43margs\u001b[49m\u001b[43m,\u001b[49m\u001b[43m \u001b[49m\u001b[43mkwargs\u001b[49m\u001b[43m)\u001b[49m\u001b[38;5;241;43m.\u001b[39;49m\u001b[43mapply\u001b[49m\u001b[43m(\u001b[49m\u001b[43m)\u001b[49m\n",
      "File \u001b[1;32mD:\\anaconda3\\lib\\site-packages\\pandas\\core\\apply.py:1088\u001b[0m, in \u001b[0;36mSeriesApply.apply\u001b[1;34m(self)\u001b[0m\n\u001b[0;32m   1084\u001b[0m \u001b[38;5;28;01mif\u001b[39;00m \u001b[38;5;28misinstance\u001b[39m(\u001b[38;5;28mself\u001b[39m\u001b[38;5;241m.\u001b[39mf, \u001b[38;5;28mstr\u001b[39m):\n\u001b[0;32m   1085\u001b[0m     \u001b[38;5;66;03m# if we are a string, try to dispatch\u001b[39;00m\n\u001b[0;32m   1086\u001b[0m     \u001b[38;5;28;01mreturn\u001b[39;00m \u001b[38;5;28mself\u001b[39m\u001b[38;5;241m.\u001b[39mapply_str()\n\u001b[1;32m-> 1088\u001b[0m \u001b[38;5;28;01mreturn\u001b[39;00m \u001b[38;5;28;43mself\u001b[39;49m\u001b[38;5;241;43m.\u001b[39;49m\u001b[43mapply_standard\u001b[49m\u001b[43m(\u001b[49m\u001b[43m)\u001b[49m\n",
      "File \u001b[1;32mD:\\anaconda3\\lib\\site-packages\\pandas\\core\\apply.py:1143\u001b[0m, in \u001b[0;36mSeriesApply.apply_standard\u001b[1;34m(self)\u001b[0m\n\u001b[0;32m   1137\u001b[0m         values \u001b[38;5;241m=\u001b[39m obj\u001b[38;5;241m.\u001b[39mastype(\u001b[38;5;28mobject\u001b[39m)\u001b[38;5;241m.\u001b[39m_values\n\u001b[0;32m   1138\u001b[0m         \u001b[38;5;66;03m# error: Argument 2 to \"map_infer\" has incompatible type\u001b[39;00m\n\u001b[0;32m   1139\u001b[0m         \u001b[38;5;66;03m# \"Union[Callable[..., Any], str, List[Union[Callable[..., Any], str]],\u001b[39;00m\n\u001b[0;32m   1140\u001b[0m         \u001b[38;5;66;03m# Dict[Hashable, Union[Union[Callable[..., Any], str],\u001b[39;00m\n\u001b[0;32m   1141\u001b[0m         \u001b[38;5;66;03m# List[Union[Callable[..., Any], str]]]]]\"; expected\u001b[39;00m\n\u001b[0;32m   1142\u001b[0m         \u001b[38;5;66;03m# \"Callable[[Any], Any]\"\u001b[39;00m\n\u001b[1;32m-> 1143\u001b[0m         mapped \u001b[38;5;241m=\u001b[39m \u001b[43mlib\u001b[49m\u001b[38;5;241;43m.\u001b[39;49m\u001b[43mmap_infer\u001b[49m\u001b[43m(\u001b[49m\n\u001b[0;32m   1144\u001b[0m \u001b[43m            \u001b[49m\u001b[43mvalues\u001b[49m\u001b[43m,\u001b[49m\n\u001b[0;32m   1145\u001b[0m \u001b[43m            \u001b[49m\u001b[43mf\u001b[49m\u001b[43m,\u001b[49m\u001b[43m  \u001b[49m\u001b[38;5;66;43;03m# type: ignore[arg-type]\u001b[39;49;00m\n\u001b[0;32m   1146\u001b[0m \u001b[43m            \u001b[49m\u001b[43mconvert\u001b[49m\u001b[38;5;241;43m=\u001b[39;49m\u001b[38;5;28;43mself\u001b[39;49m\u001b[38;5;241;43m.\u001b[39;49m\u001b[43mconvert_dtype\u001b[49m\u001b[43m,\u001b[49m\n\u001b[0;32m   1147\u001b[0m \u001b[43m        \u001b[49m\u001b[43m)\u001b[49m\n\u001b[0;32m   1149\u001b[0m \u001b[38;5;28;01mif\u001b[39;00m \u001b[38;5;28mlen\u001b[39m(mapped) \u001b[38;5;129;01mand\u001b[39;00m \u001b[38;5;28misinstance\u001b[39m(mapped[\u001b[38;5;241m0\u001b[39m], ABCSeries):\n\u001b[0;32m   1150\u001b[0m     \u001b[38;5;66;03m# GH#43986 Need to do list(mapped) in order to get treated as nested\u001b[39;00m\n\u001b[0;32m   1151\u001b[0m     \u001b[38;5;66;03m#  See also GH#25959 regarding EA support\u001b[39;00m\n\u001b[0;32m   1152\u001b[0m     \u001b[38;5;28;01mreturn\u001b[39;00m obj\u001b[38;5;241m.\u001b[39m_constructor_expanddim(\u001b[38;5;28mlist\u001b[39m(mapped), index\u001b[38;5;241m=\u001b[39mobj\u001b[38;5;241m.\u001b[39mindex)\n",
      "File \u001b[1;32mD:\\anaconda3\\lib\\site-packages\\pandas\\_libs\\lib.pyx:2870\u001b[0m, in \u001b[0;36mpandas._libs.lib.map_infer\u001b[1;34m()\u001b[0m\n",
      "Input \u001b[1;32mIn [37]\u001b[0m, in \u001b[0;36m<lambda>\u001b[1;34m(x)\u001b[0m\n\u001b[0;32m      1\u001b[0m \u001b[38;5;66;03m# Apply TextRank summarization to the train dataset\u001b[39;00m\n\u001b[1;32m----> 2\u001b[0m cnn_train[\u001b[38;5;124m'\u001b[39m\u001b[38;5;124mlexrank_summary\u001b[39m\u001b[38;5;124m'\u001b[39m] \u001b[38;5;241m=\u001b[39m cnn_train[\u001b[38;5;124m'\u001b[39m\u001b[38;5;124mcleaned_article\u001b[39m\u001b[38;5;124m'\u001b[39m]\u001b[38;5;241m.\u001b[39mapply(\u001b[38;5;28;01mlambda\u001b[39;00m x: \u001b[43mlexrank_summarize\u001b[49m\u001b[43m(\u001b[49m\u001b[43mx\u001b[49m\u001b[43m,\u001b[49m\u001b[43m \u001b[49m\u001b[43mnum_sentences\u001b[49m\u001b[38;5;241;43m=\u001b[39;49m\u001b[38;5;241;43m3\u001b[39;49m\u001b[43m)\u001b[49m)\n\u001b[0;32m      4\u001b[0m \u001b[38;5;66;03m# Apply TextRank summarization to the test dataset\u001b[39;00m\n\u001b[0;32m      5\u001b[0m cnn_test[\u001b[38;5;124m'\u001b[39m\u001b[38;5;124mlexrank_summary\u001b[39m\u001b[38;5;124m'\u001b[39m] \u001b[38;5;241m=\u001b[39m cnn_test[\u001b[38;5;124m'\u001b[39m\u001b[38;5;124mcleaned_article\u001b[39m\u001b[38;5;124m'\u001b[39m]\u001b[38;5;241m.\u001b[39mapply(\u001b[38;5;28;01mlambda\u001b[39;00m x: lexrank_summarize(x, num_sentences\u001b[38;5;241m=\u001b[39m\u001b[38;5;241m3\u001b[39m))\n",
      "Input \u001b[1;32mIn [36]\u001b[0m, in \u001b[0;36mlexrank_summarize\u001b[1;34m(article, num_sentences)\u001b[0m\n\u001b[0;32m     18\u001b[0m sentence_similarity_matrix \u001b[38;5;241m=\u001b[39m cosine_similarity(tfidf_matrix)\n\u001b[0;32m     20\u001b[0m \u001b[38;5;66;03m# Apply LexRank\u001b[39;00m\n\u001b[1;32m---> 21\u001b[0m lx \u001b[38;5;241m=\u001b[39m \u001b[43mLexRank\u001b[49m\u001b[43m(\u001b[49m\u001b[43msentences\u001b[49m\u001b[43m,\u001b[49m\u001b[43m \u001b[49m\u001b[43mstopwords\u001b[49m\u001b[38;5;241;43m=\u001b[39;49m\u001b[43mSTOPWORDS\u001b[49m\u001b[43m[\u001b[49m\u001b[38;5;124;43m'\u001b[39;49m\u001b[38;5;124;43men\u001b[39;49m\u001b[38;5;124;43m'\u001b[39;49m\u001b[43m]\u001b[49m\u001b[43m)\u001b[49m\n\u001b[0;32m     22\u001b[0m summary \u001b[38;5;241m=\u001b[39m lx\u001b[38;5;241m.\u001b[39mget_summary(article, summary_size\u001b[38;5;241m=\u001b[39mnum_sentences)\n\u001b[0;32m     24\u001b[0m \u001b[38;5;66;03m# Combine the selected sentences to create the summary\u001b[39;00m\n",
      "File \u001b[1;32mD:\\anaconda3\\lib\\site-packages\\lexrank\\algorithms\\summarizer.py:30\u001b[0m, in \u001b[0;36mLexRank.__init__\u001b[1;34m(self, documents, stopwords, keep_numbers, keep_emails, keep_urls, include_new_words)\u001b[0m\n\u001b[0;32m     27\u001b[0m \u001b[38;5;28mself\u001b[39m\u001b[38;5;241m.\u001b[39mkeep_urls \u001b[38;5;241m=\u001b[39m keep_urls\n\u001b[0;32m     28\u001b[0m \u001b[38;5;28mself\u001b[39m\u001b[38;5;241m.\u001b[39minclude_new_words \u001b[38;5;241m=\u001b[39m include_new_words\n\u001b[1;32m---> 30\u001b[0m \u001b[38;5;28mself\u001b[39m\u001b[38;5;241m.\u001b[39midf_score \u001b[38;5;241m=\u001b[39m \u001b[38;5;28;43mself\u001b[39;49m\u001b[38;5;241;43m.\u001b[39;49m\u001b[43m_calculate_idf\u001b[49m\u001b[43m(\u001b[49m\u001b[43mdocuments\u001b[49m\u001b[43m)\u001b[49m\n",
      "File \u001b[1;32mD:\\anaconda3\\lib\\site-packages\\lexrank\\algorithms\\summarizer.py:124\u001b[0m, in \u001b[0;36mLexRank._calculate_idf\u001b[1;34m(self, documents)\u001b[0m\n\u001b[0;32m    121\u001b[0m         bags_of_words\u001b[38;5;241m.\u001b[39mappend(doc_words)\n\u001b[0;32m    123\u001b[0m \u001b[38;5;28;01mif\u001b[39;00m \u001b[38;5;129;01mnot\u001b[39;00m bags_of_words:\n\u001b[1;32m--> 124\u001b[0m     \u001b[38;5;28;01mraise\u001b[39;00m \u001b[38;5;167;01mValueError\u001b[39;00m(\u001b[38;5;124m'\u001b[39m\u001b[38;5;124mdocuments are not informative\u001b[39m\u001b[38;5;124m'\u001b[39m)\n\u001b[0;32m    126\u001b[0m doc_number_total \u001b[38;5;241m=\u001b[39m \u001b[38;5;28mlen\u001b[39m(bags_of_words)\n\u001b[0;32m    128\u001b[0m \u001b[38;5;28;01mif\u001b[39;00m \u001b[38;5;28mself\u001b[39m\u001b[38;5;241m.\u001b[39minclude_new_words:\n",
      "\u001b[1;31mValueError\u001b[0m: documents are not informative"
     ]
    }
   ],
   "source": [
    "# Apply TextRank summarization to the train dataset\n",
    "cnn_train['lexrank_summary'] = cnn_train['cleaned_article'].apply(lambda x: lexrank_summarize(x, num_sentences=3))\n",
    "\n",
    "# Apply TextRank summarization to the test dataset\n",
    "cnn_test['lexrank_summary'] = cnn_test['cleaned_article'].apply(lambda x: lexrank_summarize(x, num_sentences=3))\n",
    "\n",
    "# Apply TextRank summarization to the validation dataset\n",
    "cnn_val['lexrank_summary'] = cnn_val['cleaned_article'].apply(lambda x: lexrank_summarize(x, num_sentences=3))"
   ]
  },
  {
   "cell_type": "code",
   "execution_count": null,
   "id": "1029f805",
   "metadata": {},
   "outputs": [],
   "source": []
  },
  {
   "cell_type": "code",
   "execution_count": null,
   "id": "d4cd571a",
   "metadata": {},
   "outputs": [],
   "source": []
  },
  {
   "cell_type": "code",
   "execution_count": null,
   "id": "ec4efa19",
   "metadata": {},
   "outputs": [],
   "source": []
  },
  {
   "cell_type": "code",
   "execution_count": null,
   "id": "84f84cdc",
   "metadata": {},
   "outputs": [],
   "source": []
  },
  {
   "cell_type": "code",
   "execution_count": null,
   "id": "1d5eaf1d",
   "metadata": {},
   "outputs": [],
   "source": []
  },
  {
   "cell_type": "markdown",
   "id": "9eb58f40",
   "metadata": {},
   "source": [
    "### Latent Semantic Analysis"
   ]
  },
  {
   "cell_type": "code",
   "execution_count": 33,
   "id": "7f8abc4f",
   "metadata": {},
   "outputs": [],
   "source": [
    "# Create a TF-IDF vectorizer\n",
    "tfidf_vectorizer = TfidfVectorizer()\n",
    "\n",
    "# Fit and transform the article and highlights text\n",
    "tfidf_matrix_article = tfidf_vectorizer.fit_transform(cnn_train['cleaned_article'])\n",
    "tfidf_matrix_highlights = tfidf_vectorizer.fit_transform(cnn_train['cleaned_highlights'])"
   ]
  },
  {
   "cell_type": "code",
   "execution_count": 34,
   "id": "8693c4a8",
   "metadata": {},
   "outputs": [],
   "source": [
    "# Define the number of components (latent factors)\n",
    "n_components = 100  \n",
    "\n",
    "# Perform Truncated SVD on the TF-IDF matrices\n",
    "lsa_article = TruncatedSVD(n_components)\n",
    "lsa_highlights = TruncatedSVD(n_components)\n",
    "\n",
    "lsa_matrix_article = lsa_article.fit_transform(tfidf_matrix_article)\n",
    "lsa_matrix_highlights = lsa_highlights.fit_transform(tfidf_matrix_highlights)"
   ]
  },
  {
   "cell_type": "code",
   "execution_count": 37,
   "id": "50b29501",
   "metadata": {},
   "outputs": [
    {
     "data": {
      "image/png": "[encoded data removed]",
      "text/plain": [
       "<Figure size 864x432 with 2 Axes>"
      ]
     },
     "metadata": {
      "needs_background": "light"
     },
     "output_type": "display_data"
    },
    {
     "name": "stdout",
     "output_type": "stream",
     "text": [
      "The history saving thread hit an unexpected error (OperationalError('database is locked')).History will not be written to the database.\n"
     ]
    }
   ],
   "source": [
    "# Perform PCA on the LSA representations\n",
    "pca_article = PCA(n_components=2)\n",
    "pca_highlights = PCA(n_components=2)\n",
    "\n",
    "pca_matrix_article = pca_article.fit_transform(lsa_matrix_article)\n",
    "pca_matrix_highlights = pca_highlights.fit_transform(lsa_matrix_highlights)\n",
    "\n",
    "# Plot the PCA results\n",
    "plt.figure(figsize=(12, 6))\n",
    "plt.subplot(1, 2, 1)\n",
    "plt.scatter(pca_matrix_article[:, 0], pca_matrix_article[:, 1])\n",
    "plt.title('PCA for LSA Article Representation')\n",
    "\n",
    "plt.subplot(1, 2, 2)\n",
    "plt.scatter(pca_matrix_highlights[:, 0], pca_matrix_highlights[:, 1])\n",
    "plt.title('PCA for LSA Highlights Representation')\n",
    "\n",
    "plt.show()"
   ]
  },
  {
   "cell_type": "code",
   "execution_count": 38,
   "id": "9783b662",
   "metadata": {},
   "outputs": [],
   "source": [
    "# Create a TF-IDF vectorizer\n",
    "tfidf_vectorizer = TfidfVectorizer()\n",
    "\n",
    "# Fit and transform the article and highlights text\n",
    "tfidf_matrix_article = tfidf_vectorizer.fit_transform(cnn_test['cleaned_article'])\n",
    "tfidf_matrix_highlights = tfidf_vectorizer.fit_transform(cnn_test['cleaned_highlights'])"
   ]
  },
  {
   "cell_type": "code",
   "execution_count": 39,
   "id": "a53871d1",
   "metadata": {},
   "outputs": [],
   "source": [
    "# Define the number of components (latent factors)\n",
    "n_components = 100  \n",
    "\n",
    "# Perform Truncated SVD on the TF-IDF matrices\n",
    "lsa_article = TruncatedSVD(n_components)\n",
    "lsa_highlights = TruncatedSVD(n_components)\n",
    "\n",
    "lsa_matrix_article = lsa_article.fit_transform(tfidf_matrix_article)\n",
    "lsa_matrix_highlights = lsa_highlights.fit_transform(tfidf_matrix_highlights)"
   ]
  },
  {
   "cell_type": "code",
   "execution_count": 40,
   "id": "206b05de",
   "metadata": {},
   "outputs": [
    {
     "data": {
      "image/png": "[encoded data removed]",
      "text/plain": [
       "<Figure size 864x432 with 2 Axes>"
      ]
     },
     "metadata": {
      "needs_background": "light"
     },
     "output_type": "display_data"
    }
   ],
   "source": [
    "# Perform PCA on the LSA representations\n",
    "pca_article = PCA(n_components=2)\n",
    "pca_highlights = PCA(n_components=2)\n",
    "\n",
    "pca_matrix_article = pca_article.fit_transform(lsa_matrix_article)\n",
    "pca_matrix_highlights = pca_highlights.fit_transform(lsa_matrix_highlights)\n",
    "\n",
    "# Plot the PCA results\n",
    "plt.figure(figsize=(12, 6))\n",
    "plt.subplot(1, 2, 1)\n",
    "plt.scatter(pca_matrix_article[:, 0], pca_matrix_article[:, 1])\n",
    "plt.title('PCA for LSA Article Representation')\n",
    "\n",
    "plt.subplot(1, 2, 2)\n",
    "plt.scatter(pca_matrix_highlights[:, 0], pca_matrix_highlights[:, 1])\n",
    "plt.title('PCA for LSA Highlights Representation')\n",
    "\n",
    "plt.show()"
   ]
  },
  {
   "cell_type": "code",
   "execution_count": 41,
   "id": "d05e7028",
   "metadata": {},
   "outputs": [],
   "source": [
    "# Create a TF-IDF vectorizer\n",
    "tfidf_vectorizer = TfidfVectorizer()\n",
    "\n",
    "# Fit and transform the article and highlights text\n",
    "tfidf_matrix_article = tfidf_vectorizer.fit_transform(cnn_val['cleaned_article'])\n",
    "tfidf_matrix_highlights = tfidf_vectorizer.fit_transform(cnn_val['cleaned_highlights'])"
   ]
  },
  {
   "cell_type": "code",
   "execution_count": 42,
   "id": "4ef8c628",
   "metadata": {},
   "outputs": [],
   "source": [
    "# Define the number of components (latent factors)\n",
    "n_components = 100  \n",
    "\n",
    "# Perform Truncated SVD on the TF-IDF matrices\n",
    "lsa_article = TruncatedSVD(n_components)\n",
    "lsa_highlights = TruncatedSVD(n_components)\n",
    "\n",
    "lsa_matrix_article = lsa_article.fit_transform(tfidf_matrix_article)\n",
    "lsa_matrix_highlights = lsa_highlights.fit_transform(tfidf_matrix_highlights)"
   ]
  },
  {
   "cell_type": "code",
   "execution_count": 43,
   "id": "fa89055e",
   "metadata": {},
   "outputs": [
    {
     "data": {
      "image/png": "[encoded data removed]",
      "text/plain": [
       "<Figure size 864x432 with 2 Axes>"
      ]
     },
     "metadata": {
      "needs_background": "light"
     },
     "output_type": "display_data"
    }
   ],
   "source": [
    "# Perform PCA on the LSA representations\n",
    "pca_article = PCA(n_components=2)\n",
    "pca_highlights = PCA(n_components=2)\n",
    "\n",
    "pca_matrix_article = pca_article.fit_transform(lsa_matrix_article)\n",
    "pca_matrix_highlights = pca_highlights.fit_transform(lsa_matrix_highlights)\n",
    "\n",
    "# Plot the PCA results\n",
    "plt.figure(figsize=(12, 6))\n",
    "plt.subplot(1, 2, 1)\n",
    "plt.scatter(pca_matrix_article[:, 0], pca_matrix_article[:, 1])\n",
    "plt.title('PCA for LSA Article Representation')\n",
    "\n",
    "plt.subplot(1, 2, 2)\n",
    "plt.scatter(pca_matrix_highlights[:, 0], pca_matrix_highlights[:, 1])\n",
    "plt.title('PCA for LSA Highlights Representation')\n",
    "\n",
    "plt.show()"
   ]
  },
  {
   "cell_type": "markdown",
   "id": "6cce2ea1",
   "metadata": {},
   "source": [
    "### LsaSummarizer (Latent Semantic Analysis)"
   ]
  },
  {
   "cell_type": "code",
   "execution_count": 44,
   "id": "db9b03b3",
   "metadata": {},
   "outputs": [],
   "source": [
    "def lsa_summarize(article, num_sentences):\n",
    "    # Tokenize the article into sentences\n",
    "    sentences = sent_tokenize(article)\n",
    "    \n",
    "    # Tokenize the entire article into words\n",
    "    words = word_tokenize(article)\n",
    "    \n",
    "    # Create a dictionary and a corpus\n",
    "    dictionary = corpora.Dictionary([words])\n",
    "    corpus = [dictionary.doc2bow(words)]\n",
    "    \n",
    "    # Create an LSA model\n",
    "    num_topics = 2  # You can adjust the number of topics as needed\n",
    "    lsa_model = gensim.models.LsiModel(corpus, id2word=dictionary, num_topics=num_topics)\n",
    "    \n",
    "    # Calculate LSA scores for each sentence\n",
    "    sentence_scores = {}\n",
    "\n",
    "    for sentence in sentences:\n",
    "        # Tokenize the sentence into words and convert to lowercase\n",
    "        sentence_words = word_tokenize(sentence.lower())\n",
    "        \n",
    "        # Calculate the LSA vector for the sentence\n",
    "        sentence_bow = dictionary.doc2bow(sentence_words)\n",
    "        lsa_vector = lsa_model[sentence_bow]\n",
    "        \n",
    "        # Calculate the LSA score as the sum of absolute values of vector components\n",
    "        score = sum(abs(value) for _, value in lsa_vector)\n",
    "        \n",
    "        # Store the score for the sentence\n",
    "        sentence_scores[sentence] = score\n",
    "\n",
    "    # Get the top 'num_sentences' sentences with the highest scores\n",
    "    summary_sentences = nlargest(num_sentences, sentence_scores, key=sentence_scores.get)\n",
    "\n",
    "    # Combine the selected sentences to create the summary\n",
    "    summary = ' '.join(summary_sentences)\n",
    "    \n",
    "    return summary"
   ]
  },
  {
   "cell_type": "code",
   "execution_count": null,
   "id": "1b9b36e5",
   "metadata": {},
   "outputs": [],
   "source": [
    "# Apply LSA summarization to each article in the training dataset and store summaries\n",
    "cnn_train['lsa_summary'] = cnn_train['cleaned_article'].apply(lambda x: lsa_summarize(x, num_sentences=3))\n",
    "\n",
    "# Apply LSA summarization to each article in the testing dataset and store summaries\n",
    "cnn_test['lsa_summary'] = cnn_test['cleaned_article'].apply(lambda x: lsa_summarize(x, num_sentences=3))\n",
    "\n",
    "# Apply LSA summarization to each article in the validation dataset and store summaries\n",
    "cnn_val['lsa_summary'] = cnn_val['cleaned_article'].apply(lambda x: lsa_summarize(x, num_sentences=3))"
   ]
  },
  {
   "cell_type": "code",
   "execution_count": null,
   "id": "f032ef65",
   "metadata": {},
   "outputs": [],
   "source": [
    "# Define a function to calculate ROUGE scores\n",
    "def calculate_rouge_scores(df):\n",
    "    # Initialize the ROUGE scorer\n",
    "    rouge = rouge_scorer.RougeScorer(['rouge1', 'rouge2', 'rougeL'], use_stemmer=True)\n",
    "\n",
    "    # Lists to store the ROUGE scores\n",
    "    rouge1_scores = []\n",
    "    rouge2_scores = []\n",
    "    rougeL_scores = []\n",
    "\n",
    "    for _, row in df.iterrows():\n",
    "        reference_summary = row['cleaned_highlights']\n",
    "        lsa_summary = row['lsa_summary']\n",
    "\n",
    "        # Check if reference_summary or lsa_summary is None or empty\n",
    "        if reference_summary is None or lsa_summary is None or reference_summary == \"\" or lsa_summary == \"\":\n",
    "            # Append 0.0 for precision, recall, and fmeasure\n",
    "            rouge1_scores.append({'precision': 0.0, 'recall': 0.0, 'fmeasure': 0.0})\n",
    "            rouge2_scores.append({'precision': 0.0, 'recall': 0.0, 'fmeasure': 0.0})\n",
    "            rougeL_scores.append({'precision': 0.0, 'recall': 0.0, 'fmeasure': 0.0})\n",
    "        else:\n",
    "            # Calculate ROUGE scores\n",
    "            scores = rouge.score(luhn_summary, reference_summary)\n",
    "\n",
    "            rouge1_scores.append({\n",
    "                'precision': round(scores['rouge1'].precision, 2),\n",
    "                'recall': round(scores['rouge1'].recall, 2),\n",
    "                'fmeasure': round(scores['rouge1'].fmeasure, 2)\n",
    "            })\n",
    "            \n",
    "            rouge2_scores.append({\n",
    "                'precision': round(scores['rouge2'].precision, 2),\n",
    "                'recall': round(scores['rouge2'].recall, 2),\n",
    "                'fmeasure': round(scores['rouge2'].fmeasure, 2)\n",
    "            })\n",
    "            \n",
    "            rougeL_scores.append({\n",
    "                'precision': round(scores['rougeL'].precision, 2),\n",
    "                'recall': round(scores['rougeL'].recall, 2),\n",
    "                'fmeasure': round(scores['rougeL'].fmeasure, 2)\n",
    "            })\n",
    "\n",
    "    df['rouge1'] = rouge1_scores\n",
    "    df['rouge2'] = rouge2_scores\n",
    "    df['rougeL'] = rougeL_scores\n",
    "    \n",
    "    # Print the ROUGE scores for the first row for debugging\n",
    "    print(\"Rouge1 Scores:\", rouge1_scores[0])\n",
    "    print(\"Rouge2 Scores:\", rouge2_scores[0])\n",
    "    print(\"RougeL Scores:\", rougeL_scores[0])"
   ]
  },
  {
   "cell_type": "code",
   "execution_count": null,
   "id": "10ca0deb",
   "metadata": {},
   "outputs": [],
   "source": [
    "# Calculate ROUGE scores for train dataset\n",
    "calculate_rouge_scores(cnn_train)"
   ]
  },
  {
   "cell_type": "code",
   "execution_count": null,
   "id": "4c9bdea2",
   "metadata": {},
   "outputs": [],
   "source": [
    "# Calculate ROUGE scores for test dataset\n",
    "calculate_rouge_scores(cnn_test)"
   ]
  },
  {
   "cell_type": "code",
   "execution_count": null,
   "id": "dc832be3",
   "metadata": {},
   "outputs": [],
   "source": [
    "# Calculate ROUGE scores for validation dataset\n",
    "calculate_rouge_scores(cnn_val)"
   ]
  }
 ],
 "metadata": {
  "kernelspec": {
   "display_name": "Python 3 (ipykernel)",
   "language": "python",
   "name": "python3"
  },
  "language_info": {
   "codemirror_mode": {
    "name": "ipython",
    "version": 3
   },
   "file_extension": ".py",
   "mimetype": "text/x-python",
   "name": "python",
   "nbconvert_exporter": "python",
   "pygments_lexer": "ipython3",
   "version": "3.9.12"
  }
 },
 "nbformat": 4,
 "nbformat_minor": 5
}
