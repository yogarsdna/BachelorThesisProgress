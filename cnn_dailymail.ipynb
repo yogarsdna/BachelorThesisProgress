{
 "cells": [
  {
   "cell_type": "code",
   "execution_count": 1,
   "id": "328ca06d",
   "metadata": {},
   "outputs": [
    {
     "name": "stderr",
     "output_type": "stream",
     "text": [
      "D:\\anaconda3\\lib\\site-packages\\tqdm\\auto.py:22: TqdmWarning: IProgress not found. Please update jupyter and ipywidgets. See https://ipywidgets.readthedocs.io/en/stable/user_install.html\n",
      "  from .autonotebook import tqdm as notebook_tqdm\n",
      "[nltk_data] Downloading package punkt to\n",
      "[nltk_data]     C:\\Users\\Yoga\\AppData\\Roaming\\nltk_data...\n",
      "[nltk_data]   Package punkt is already up-to-date!\n"
     ]
    },
    {
     "data": {
      "text/plain": [
       "True"
      ]
     },
     "execution_count": 1,
     "metadata": {},
     "output_type": "execute_result"
    }
   ],
   "source": [
    "import nltk\n",
    "import string\n",
    "import gensim\n",
    "import numpy as np\n",
    "import pandas as pd\n",
    "import networkx as nx\n",
    "import tensorflow as tf\n",
    "import matplotlib.pyplot as plt\n",
    "import tensorflow_datasets as tfds\n",
    "from heapq import nlargest\n",
    "from gensim import corpora\n",
    "from collections import Counter\n",
    "from nltk.corpus import stopwords\n",
    "from nltk.stem import PorterStemmer\n",
    "from rouge_score import rouge_scorer\n",
    "from nltk.tokenize import sent_tokenize\n",
    "from nltk import sent_tokenize, word_tokenize\n",
    "from sklearn.decomposition import PCA, TruncatedSVD\n",
    "from sklearn.metrics.pairwise import cosine_similarity\n",
    "from tensorflow.keras.preprocessing.text import Tokenizer\n",
    "from tensorflow.keras.preprocessing.sequence import pad_sequences\n",
    "from nltk.translate.bleu_score import sentence_bleu, corpus_bleu\n",
    "from sklearn.feature_extraction.text import TfidfVectorizer, CountVectorizer\n",
    "nltk.download('punkt')"
   ]
  },
  {
   "cell_type": "code",
   "execution_count": 2,
   "id": "ef1eff99",
   "metadata": {},
   "outputs": [],
   "source": [
    "cnn_train = pd.read_csv('cnn_dailymail/train.csv')\n",
    "cnn_test = pd.read_csv('cnn_dailymail/test.csv')\n",
    "cnn_val = pd.read_csv('cnn_dailymail/validation.csv')"
   ]
  },
  {
   "cell_type": "code",
   "execution_count": 3,
   "id": "d8145437",
   "metadata": {},
   "outputs": [],
   "source": [
    "cnn_train.drop(\"id\", axis=1, inplace=True)\n",
    "cnn_test.drop(\"id\", axis=1, inplace=True)\n",
    "cnn_val.drop(\"id\", axis=1, inplace=True)"
   ]
  },
  {
   "cell_type": "markdown",
   "id": "a91f30be",
   "metadata": {},
   "source": [
    "## <center>Data Cleaning</center>"
   ]
  },
  {
   "cell_type": "code",
   "execution_count": 4,
   "id": "bd266f29",
   "metadata": {},
   "outputs": [],
   "source": [
    "def remove_stopwords(text):\n",
    "    # Tokenize the text into words\n",
    "    words = text.split()\n",
    "\n",
    "    # Remove stop words\n",
    "    stop_words = set(stopwords.words('english'))\n",
    "    words = [word for word in words if word not in stop_words]\n",
    "\n",
    "    # Join the words back into cleaned text\n",
    "    cleaned_text = ' '.join(words)\n",
    "\n",
    "    return cleaned_text"
   ]
  },
  {
   "cell_type": "code",
   "execution_count": 5,
   "id": "3daea742",
   "metadata": {},
   "outputs": [],
   "source": [
    "cnn_train['cleaned_article'] = cnn_train['article'].apply(remove_stopwords)\n",
    "cnn_train['cleaned_highlights'] = cnn_train['highlights'].apply(remove_stopwords)"
   ]
  },
  {
   "cell_type": "code",
   "execution_count": 6,
   "id": "30b899dd",
   "metadata": {},
   "outputs": [],
   "source": [
    "cnn_test['cleaned_article'] = cnn_test['article'].apply(remove_stopwords)\n",
    "cnn_test['cleaned_highlights'] = cnn_test['highlights'].apply(remove_stopwords)"
   ]
  },
  {
   "cell_type": "code",
   "execution_count": 7,
   "id": "d2ff5279",
   "metadata": {},
   "outputs": [],
   "source": [
    "cnn_val['cleaned_article'] = cnn_val['article'].apply(remove_stopwords)\n",
    "cnn_val['cleaned_highlights'] = cnn_val['highlights'].apply(remove_stopwords)"
   ]
  },
  {
   "cell_type": "code",
   "execution_count": 4,
   "id": "71f06587",
   "metadata": {},
   "outputs": [],
   "source": [
    "def clean_text(text):\n",
    "    # Convert text to lowercase\n",
    "    text = text.lower()\n",
    "\n",
    "    # Retain certain punctuation marks\n",
    "    preserved_punctuation = \".,\"\n",
    "\n",
    "    # Remove punctuation, except for the preserved ones\n",
    "    translator = str.maketrans('', '', string.punctuation.replace(preserved_punctuation, ''))\n",
    "    text = text.translate(translator)\n",
    "\n",
    "    # Tokenize the text into sentences\n",
    "    sentences = sent_tokenize(text)\n",
    "\n",
    "    # Tokenize each sentence into words\n",
    "    words = [word_tokenize(sentence) for sentence in sentences]\n",
    "\n",
    "    # Remove stop words\n",
    "    stop_words = set(stopwords.words('english'))\n",
    "    words = [[word for word in sentence if word not in stop_words] for sentence in words]\n",
    "\n",
    "    # Apply stemming\n",
    "    stemmer = PorterStemmer()\n",
    "    words = [[stemmer.stem(word) for word in sentence] for sentence in words]\n",
    "\n",
    "    # Join the words back into cleaned text\n",
    "    cleaned_text = [' '.join(sentence) for sentence in words]\n",
    "    cleaned_text = ' '.join(cleaned_text)\n",
    "\n",
    "    return cleaned_text"
   ]
  },
  {
   "cell_type": "code",
   "execution_count": 5,
   "id": "9f3e46bb",
   "metadata": {},
   "outputs": [],
   "source": [
    "cnn_train['cleaned_article'] = cnn_train['article'].apply(clean_text)\n",
    "cnn_train['cleaned_highlights'] = cnn_train['highlights'].apply(clean_text)"
   ]
  },
  {
   "cell_type": "code",
   "execution_count": 6,
   "id": "8ce2987a",
   "metadata": {},
   "outputs": [],
   "source": [
    "cnn_test['cleaned_article'] = cnn_test['article'].apply(clean_text)\n",
    "cnn_test['cleaned_highlights'] = cnn_test['highlights'].apply(clean_text)"
   ]
  },
  {
   "cell_type": "code",
   "execution_count": 7,
   "id": "7bf073fb",
   "metadata": {},
   "outputs": [],
   "source": [
    "cnn_val['cleaned_article'] = cnn_val['article'].apply(clean_text)\n",
    "cnn_val['cleaned_highlights'] = cnn_val['highlights'].apply(clean_text)"
   ]
  },
  {
   "cell_type": "markdown",
   "id": "e465302a",
   "metadata": {},
   "source": [
    "## <center>Techniques</center>"
   ]
  },
  {
   "cell_type": "markdown",
   "id": "5350fa4c",
   "metadata": {},
   "source": [
    "### Luhn Method"
   ]
  },
  {
   "cell_type": "code",
   "execution_count": 8,
   "id": "be49791f",
   "metadata": {},
   "outputs": [],
   "source": [
    "def luhn_summarize(article, num_sentences):\n",
    "    # Tokenize the article into sentences\n",
    "    sentences = sent_tokenize(article)\n",
    "    \n",
    "    # Tokenize the entire article into words\n",
    "    words = word_tokenize(article)\n",
    "    \n",
    "    # Calculate word frequencies using Counter\n",
    "    word_frequencies = Counter(words)\n",
    "\n",
    "    # Initialize a dictionary to store sentence scores\n",
    "    sentence_scores = {}\n",
    "\n",
    "    # Calculate scores for each sentence\n",
    "    for sentence in sentences:\n",
    "        # Tokenize the sentence into words\n",
    "        sentence_words = word_tokenize(sentence)\n",
    "        \n",
    "        # Check the frequency of each word in the original case\n",
    "        for word in sentence_words:\n",
    "            # Check if the word is in the word frequencies\n",
    "            if word in word_frequencies:\n",
    "                # If the sentence is not in the scores dictionary, initialize it\n",
    "                if sentence not in sentence_scores:\n",
    "                    sentence_scores[sentence] = word_frequencies[word]\n",
    "                else:\n",
    "                    # If the sentence is already in the dictionary, add the word's frequency\n",
    "                    sentence_scores[sentence] += word_frequencies[word]\n",
    "\n",
    "    # Get the top 'num_sentences' sentences with the highest scores\n",
    "    summary_sentences = nlargest(num_sentences, sentence_scores, key=sentence_scores.get)\n",
    "\n",
    "    # Combine the selected sentences to create the summary\n",
    "    summary = ' '.join(summary_sentences)\n",
    "    \n",
    "    return summary"
   ]
  },
  {
   "cell_type": "code",
   "execution_count": 9,
   "id": "890bc9fe",
   "metadata": {},
   "outputs": [],
   "source": [
    "# Apply Luhn Method to each article in the training dataset and store summaries\n",
    "cnn_train['luhn_summary'] = cnn_train['cleaned_article'].apply(lambda x: luhn_summarize(x, num_sentences=3))\n",
    "\n",
    "# Apply Luhn Method to each article in the testing dataset and store summaries\n",
    "cnn_test['luhn_summary'] = cnn_test['cleaned_article'].apply(lambda x: luhn_summarize(x, num_sentences=3))\n",
    "\n",
    "# Apply Luhn Method to each article in the validation dataset and store summaries\n",
    "cnn_val['luhn_summary'] = cnn_val['cleaned_article'].apply(lambda x: luhn_summarize(x, num_sentences=3))"
   ]
  },
  {
   "cell_type": "code",
   "execution_count": null,
   "id": "696e11f3",
   "metadata": {},
   "outputs": [],
   "source": [
    "# Save the results to new CSV files for each dataset\n",
    "cnn_train.to_csv(\"cnn_train_with_luhn_summaries.csv\", index=False)\n",
    "cnn_test.to_csv(\"cnn_test_with_luhn_summaries.csv\", index=False)\n",
    "cnn_val.to_csv(\"cnn_val_with_luhn_summaries.csv\", index=False)"
   ]
  },
  {
   "cell_type": "code",
   "execution_count": 10,
   "id": "38569be4",
   "metadata": {},
   "outputs": [],
   "source": [
    "# Define a function to calculate ROUGE scores\n",
    "def calculate_rouge_scores(df):\n",
    "    # Initialize the ROUGE scorer\n",
    "    rouge = rouge_scorer.RougeScorer(['rouge1', 'rouge2', 'rougeL'], use_stemmer=True)\n",
    "\n",
    "    # Lists to store the ROUGE scores\n",
    "    rouge1_scores = []\n",
    "    rouge2_scores = []\n",
    "    rougeL_scores = []\n",
    "\n",
    "    for _, row in df.iterrows():\n",
    "        reference_summary = row['cleaned_highlights']\n",
    "        luhn_summary = row['luhn_summary']\n",
    "\n",
    "        # Check if reference_summary or luhn_summary is None or empty\n",
    "        if reference_summary is None or luhn_summary is None or reference_summary == \"\" or luhn_summary == \"\":\n",
    "            # Append 0.0 for precision, recall, and fmeasure\n",
    "            rouge1_scores.append([{'precision': 0.0, 'recall': 0.0, 'fmeasure': 0.0}])\n",
    "            rouge2_scores.append([{'precision': 0.0, 'recall': 0.0, 'fmeasure': 0.0}])\n",
    "            rougeL_scores.append([{'precision': 0.0, 'recall': 0.0, 'fmeasure': 0.0}])\n",
    "            \n",
    "        else:\n",
    "            # Calculate ROUGE scores\n",
    "            scores = rouge.score(luhn_summary, reference_summary)\n",
    "\n",
    "            rouge1_scores.append([{\n",
    "                'precision': round(scores['rouge1'].precision, 2),\n",
    "                'recall': round(scores['rouge1'].recall, 2),\n",
    "                'fmeasure': round(scores['rouge1'].fmeasure, 2)\n",
    "            }])\n",
    "            \n",
    "            rouge2_scores.append([{\n",
    "                'precision': round(scores['rouge2'].precision, 2),\n",
    "                'recall': round(scores['rouge2'].recall, 2),\n",
    "                'fmeasure': round(scores['rouge2'].fmeasure, 2)\n",
    "            }])\n",
    "            \n",
    "            rougeL_scores.append([{\n",
    "                'precision': round(scores['rougeL'].precision, 2),\n",
    "                'recall': round(scores['rougeL'].recall, 2),\n",
    "                'fmeasure': round(scores['rougeL'].fmeasure, 2)\n",
    "            }])\n",
    "\n",
    "    df['rouge1'] = rouge1_scores\n",
    "    df['rouge2'] = rouge2_scores\n",
    "    df['rougeL'] = rougeL_scores\n",
    "    \n",
    "    # Print the ROUGE scores for the first row for debugging\n",
    "    print(\"Rouge1 Scores:\", rouge1_scores[0])\n",
    "    print(\"Rouge2 Scores:\", rouge2_scores[0])\n",
    "    print(\"RougeL Scores:\", rougeL_scores[0])"
   ]
  },
  {
   "cell_type": "code",
   "execution_count": 11,
   "id": "0dffbc5e",
   "metadata": {},
   "outputs": [
    {
     "name": "stdout",
     "output_type": "stream",
     "text": [
      "Rouge1 Scores: [{'precision': 0.95, 'recall': 0.16, 'fmeasure': 0.28}]\n",
      "Rouge2 Scores: [{'precision': 0.65, 'recall': 0.11, 'fmeasure': 0.18}]\n",
      "RougeL Scores: [{'precision': 0.67, 'recall': 0.11, 'fmeasure': 0.19}]\n"
     ]
    }
   ],
   "source": [
    "# Calculate ROUGE scores for train dataset\n",
    "calculate_rouge_scores(cnn_train)"
   ]
  },
  {
   "cell_type": "code",
   "execution_count": 12,
   "id": "3fe77026",
   "metadata": {},
   "outputs": [
    {
     "name": "stdout",
     "output_type": "stream",
     "text": [
      "Rouge1 Scores: [{'precision': 0.92, 'recall': 0.11, 'fmeasure': 0.19}]\n",
      "Rouge2 Scores: [{'precision': 0.52, 'recall': 0.06, 'fmeasure': 0.1}]\n",
      "RougeL Scores: [{'precision': 0.79, 'recall': 0.09, 'fmeasure': 0.16}]\n"
     ]
    }
   ],
   "source": [
    "# Calculate ROUGE scores for test dataset\n",
    "calculate_rouge_scores(cnn_test)"
   ]
  },
  {
   "cell_type": "code",
   "execution_count": 13,
   "id": "31017648",
   "metadata": {},
   "outputs": [
    {
     "name": "stdout",
     "output_type": "stream",
     "text": [
      "Rouge1 Scores: [{'precision': 1.0, 'recall': 0.23, 'fmeasure': 0.37}]\n",
      "Rouge2 Scores: [{'precision': 0.89, 'recall': 0.2, 'fmeasure': 0.33}]\n",
      "RougeL Scores: [{'precision': 1.0, 'recall': 0.23, 'fmeasure': 0.37}]\n"
     ]
    }
   ],
   "source": [
    "# Calculate ROUGE scores for validation dataset\n",
    "calculate_rouge_scores(cnn_val)"
   ]
  },
  {
   "cell_type": "code",
   "execution_count": null,
   "id": "97b028b3",
   "metadata": {},
   "outputs": [],
   "source": [
    "# Save the train dataset with ROUGE scores\n",
    "cnn_train.to_csv(\"cnn_train_with_rouge_scores.csv\", index=False)\n",
    "\n",
    "# Save the test dataset with ROUGE scores\n",
    "cnn_test.to_csv(\"cnn_test_with_rouge_scores.csv\", index=False)\n",
    "\n",
    "# Save the validation dataset with ROUGE scores\n",
    "cnn_val.to_csv(\"cnn_val_with_rouge_scores.csv\", index=False)"
   ]
  },
  {
   "cell_type": "markdown",
   "id": "31e02b77",
   "metadata": {},
   "source": [
    "### TextRank"
   ]
  },
  {
   "cell_type": "code",
   "execution_count": 9,
   "id": "0a6bd35f",
   "metadata": {},
   "outputs": [],
   "source": [
    "def textrank_summarize(article, num_sentences):\n",
    "    # Tokenize the article into sentences\n",
    "    sentences = sent_tokenize(article)\n",
    "\n",
    "    # Check if there are sentences to summarize\n",
    "    if not sentences:\n",
    "        return \"No sentences to summarize\"\n",
    "\n",
    "    # Vectorize sentences using CountVectorizer\n",
    "    vectorizer = CountVectorizer()\n",
    "    X = vectorizer.fit_transform(sentences)\n",
    "    vectors = X.toarray()\n",
    "\n",
    "    # Calculate cosine similarity between sentence vectors\n",
    "    similarity_matrix = cosine_similarity(vectors, vectors)\n",
    "\n",
    "    # Create a graph representation of sentences\n",
    "    sentence_graph = nx.Graph()\n",
    "    threshold = 0.5  # You can adjust this threshold based on your data\n",
    "    for i in range(len(sentences)):\n",
    "        for j in range(i + 1, len(sentences)):  # Avoid self-connecting and duplicate edges\n",
    "            if similarity_matrix[i][j] >= threshold:\n",
    "                sentence_graph.add_edge(i, j, weight=similarity_matrix[i][j])\n",
    "\n",
    "    # Check if there are no edges in the sentence graph\n",
    "    if len(sentence_graph.edges) == 0:\n",
    "        return \"Not enough connections for summarization\"\n",
    "\n",
    "    # Calculate TextRank scores\n",
    "    scores = nx.pagerank(sentence_graph)\n",
    "\n",
    "    # Sort sentences by their TextRank scores\n",
    "    ranked_sentences = sorted(((scores[i], sentence) for i, sentence in enumerate(sentences)), reverse=True)\n",
    "\n",
    "    # Get the top 'num_sentences' sentences for the summary\n",
    "    summary_sentences = [sentence for score, sentence in ranked_sentences[:num_sentences]]\n",
    "\n",
    "    # Combine selected sentences into the summary\n",
    "    summary = ' '.join(summary_sentences)\n",
    "    return summary"
   ]
  },
  {
   "cell_type": "code",
   "execution_count": 10,
   "id": "b4a42617",
   "metadata": {},
   "outputs": [],
   "source": [
    "# Apply TextRank summarization to the train dataset\n",
    "cnn_train['textrank_summary'] = cnn_train['cleaned_article'].apply(lambda x: textrank_summarize(x, num_sentences=3))\n",
    "\n",
    "# Apply TextRank summarization to the test dataset\n",
    "cnn_test['textrank_summary'] = cnn_test['cleaned_article'].apply(lambda x: textrank_summarize(x, num_sentences=3))\n",
    "\n",
    "# Apply TextRank summarization to the validation dataset\n",
    "cnn_val['textrank_summary'] = cnn_val['cleaned_article'].apply(lambda x: textrank_summarize(x, num_sentences=3))"
   ]
  },
  {
   "cell_type": "code",
   "execution_count": null,
   "id": "f1465b23",
   "metadata": {},
   "outputs": [],
   "source": [
    "# Save the results to new CSV files\n",
    "cnn_train.to_csv(\"cnn_train_with_textrank_summaries.csv\", index=False)\n",
    "cnn_test.to_csv(\"cnn_test_with_textrank_summaries.csv\", index=False)\n",
    "cnn_val.to_csv(\"cnn_val_with_textrank_summaries.csv\", index=False)"
   ]
  },
  {
   "cell_type": "code",
   "execution_count": 11,
   "id": "d4c74565",
   "metadata": {},
   "outputs": [],
   "source": [
    "def calculate_rouge_scores_textrank(df):\n",
    "    # Initialize the ROUGE scorer\n",
    "    rouge = rouge_scorer.RougeScorer(['rouge1', 'rouge2', 'rougeL'], use_stemmer=True)\n",
    "\n",
    "    # Lists to store the ROUGE scores\n",
    "    rouge1_scores = []\n",
    "    rouge2_scores = []\n",
    "    rougeL_scores = []\n",
    "\n",
    "    for _, row in df.iterrows():\n",
    "        reference_summary = row['cleaned_highlights']\n",
    "        textrank_summary = row['textrank_summary']\n",
    "\n",
    "        # Check if reference_summary or textrank_summary is None or empty\n",
    "        if reference_summary is None or textrank_summary is None or reference_summary == \"\" or textrank_summary == \"\":\n",
    "            # Append 0.0 for precision, recall, and fmeasure\n",
    "            rouge1_scores.append([{'precision': 0.0, 'recall': 0.0, 'fmeasure': 0.0}])\n",
    "            rouge2_scores.append([{'precision': 0.0, 'recall': 0.0, 'fmeasure': 0.0}])\n",
    "            rougeL_scores.append([{'precision': 0.0, 'recall': 0.0, 'fmeasure': 0.0}])\n",
    "        \n",
    "        else:\n",
    "            # Calculate ROUGE scores\n",
    "            scores = rouge.score(textrank_summary, reference_summary)\n",
    "\n",
    "            rouge1_scores.append([{\n",
    "                'precision': round(scores['rouge1'].precision, 2),\n",
    "                'recall': round(scores['rouge1'].recall, 2),\n",
    "                'fmeasure': round(scores['rouge1'].fmeasure, 2)\n",
    "            }])\n",
    "            \n",
    "            rouge2_scores.append([{\n",
    "                'precision': round(scores['rouge2'].precision, 2),\n",
    "                'recall': round(scores['rouge2'].recall, 2),\n",
    "                'fmeasure': round(scores['rouge2'].fmeasure, 2)\n",
    "            }])\n",
    "            \n",
    "            rougeL_scores.append([{\n",
    "                'precision': round(scores['rougeL'].precision, 2),\n",
    "                'recall': round(scores['rougeL'].recall, 2),\n",
    "                'fmeasure': round(scores['rougeL'].fmeasure, 2)\n",
    "            }])\n",
    "\n",
    "    df['rouge1_textrank'] = rouge1_scores\n",
    "    df['rouge2_textrank'] = rouge2_scores\n",
    "    df['rougeL_textrank'] = rougeL_scores\n",
    "    \n",
    "    # Print the ROUGE scores for the first row for debugging\n",
    "    print(\"Rouge1 Scores (TextRank):\", rouge1_scores[0])\n",
    "    print(\"Rouge2 Scores (TextRank):\", rouge2_scores[0])\n",
    "    print(\"RougeL Scores (TextRank):\", rougeL_scores[0])"
   ]
  },
  {
   "cell_type": "code",
   "execution_count": 12,
   "id": "eb7a2a5c",
   "metadata": {},
   "outputs": [
    {
     "name": "stdout",
     "output_type": "stream",
     "text": [
      "Rouge1 Scores (TextRank): [{'precision': 0.0, 'recall': 0.0, 'fmeasure': 0.0}]\n",
      "Rouge2 Scores (TextRank): [{'precision': 0.0, 'recall': 0.0, 'fmeasure': 0.0}]\n",
      "RougeL Scores (TextRank): [{'precision': 0.0, 'recall': 0.0, 'fmeasure': 0.0}]\n"
     ]
    }
   ],
   "source": [
    "# Calculate ROUGE scores for TextRank summarization on the train dataset\n",
    "calculate_rouge_scores_textrank(cnn_train)"
   ]
  },
  {
   "cell_type": "code",
   "execution_count": 13,
   "id": "23c5613f",
   "metadata": {},
   "outputs": [
    {
     "name": "stdout",
     "output_type": "stream",
     "text": [
      "Rouge1 Scores (TextRank): [{'precision': 0.0, 'recall': 0.0, 'fmeasure': 0.0}]\n",
      "Rouge2 Scores (TextRank): [{'precision': 0.0, 'recall': 0.0, 'fmeasure': 0.0}]\n",
      "RougeL Scores (TextRank): [{'precision': 0.0, 'recall': 0.0, 'fmeasure': 0.0}]\n"
     ]
    }
   ],
   "source": [
    "# Calculate ROUGE scores for TextRank summarization on the test dataset\n",
    "calculate_rouge_scores_textrank(cnn_test)"
   ]
  },
  {
   "cell_type": "code",
   "execution_count": 14,
   "id": "5b5b7a6c",
   "metadata": {},
   "outputs": [
    {
     "name": "stdout",
     "output_type": "stream",
     "text": [
      "Rouge1 Scores (TextRank): [{'precision': 0.0, 'recall': 0.0, 'fmeasure': 0.0}]\n",
      "Rouge2 Scores (TextRank): [{'precision': 0.0, 'recall': 0.0, 'fmeasure': 0.0}]\n",
      "RougeL Scores (TextRank): [{'precision': 0.0, 'recall': 0.0, 'fmeasure': 0.0}]\n"
     ]
    }
   ],
   "source": [
    "# Calculate ROUGE scores for TextRank summarization on the validation dataset\n",
    "calculate_rouge_scores_textrank(cnn_val)"
   ]
  },
  {
   "cell_type": "code",
   "execution_count": null,
   "id": "ebdb3de8",
   "metadata": {},
   "outputs": [],
   "source": [
    "# Save the train dataset with ROUGE scores\n",
    "cnn_train.to_csv(\"cnn_train_with_rouge_scores.csv\", index=False)\n",
    "\n",
    "# Save the test dataset with ROUGE scores\n",
    "cnn_test.to_csv(\"cnn_test_with_rouge_scores.csv\", index=False)\n",
    "\n",
    "# Save the validation dataset with ROUGE scores\n",
    "cnn_val.to_csv(\"cnn_val_with_rouge_scores.csv\", index=False)"
   ]
  },
  {
   "cell_type": "markdown",
   "id": "7125b9b8",
   "metadata": {},
   "source": [
    "### LexRank"
   ]
  },
  {
   "cell_type": "code",
   "execution_count": 88,
   "id": "096ebef4",
   "metadata": {},
   "outputs": [],
   "source": [
    "from sklearn.feature_extraction.text import TfidfVectorizer\n",
    "from sklearn.metrics.pairwise import cosine_similarity\n",
    "from lexrank import LexRank\n",
    "from lexrank.mappings.stopwords import STOPWORDS\n",
    "from heapq import nlargest\n",
    "from nltk.tokenize import sent_tokenize, word_tokenize\n",
    "from collections import Counter\n",
    "\n",
    "def lexrank_summarize(article, summary_size=3):\n",
    "    # Tokenize the article into sentences\n",
    "    sentences = sent_tokenize(article)\n",
    "    \n",
    "    # Check if there are enough sentences for LexRank to work with\n",
    "    if len(sentences) < summary_size:\n",
    "        return \"Not enough sentences for summarization.\"\n",
    "\n",
    "    # Vectorize the sentences using TF-IDF\n",
    "    tfidf_vectorizer = TfidfVectorizer()\n",
    "    tfidf_matrix = tfidf_vectorizer.fit_transform(sentences)\n",
    "\n",
    "    # Apply LexRank\n",
    "    lx = LexRank(sentences, stopwords=STOPWORDS['en'])\n",
    "    summary = lx.get_summary(article, summary_size=summary_size)\n",
    "\n",
    "    # Combine the selected sentences to create the summary\n",
    "    summary = ' '.join(summary)\n",
    "    \n",
    "    return summary"
   ]
  },
  {
   "cell_type": "code",
   "execution_count": 89,
   "id": "2b892069",
   "metadata": {},
   "outputs": [],
   "source": [
    "# Apply LexRank summarization to the train dataset\n",
    "cnn_train['lexrank_summary'] = cnn_train['cleaned_article'].apply(lambda x: lexrank_summarize(x, summary_size=3))\n",
    "\n",
    "# Apply LexRank summarization to the test dataset\n",
    "cnn_test['lexrank_summary'] = cnn_test['cleaned_article'].apply(lambda x: lexrank_summarize(x, summary_size=3))\n",
    "\n",
    "# Apply LexRank summarization to the validation dataset\n",
    "cnn_val['lexrank_summary'] = cnn_val['cleaned_article'].apply(lambda x: lexrank_summarize(x, summary_size=3))"
   ]
  },
  {
   "cell_type": "code",
   "execution_count": null,
   "id": "1029f805",
   "metadata": {},
   "outputs": [],
   "source": [
    "# Save the results to new CSV files\n",
    "cnn_train.to_csv(\"cnn_train_with_lexrank_summaries.csv\", index=False)\n",
    "cnn_test.to_csv(\"cnn_test_with_lexrank_summaries.csv\", index=False)\n",
    "cnn_val.to_csv(\"cnn_val_with_lexrank_summaries.csv\", index=False)"
   ]
  },
  {
   "cell_type": "code",
   "execution_count": 97,
   "id": "d4cd571a",
   "metadata": {},
   "outputs": [],
   "source": [
    "# Define a function to calculate ROUGE scores\n",
    "def calculate_rouge_scores(df):\n",
    "    # Initialize the ROUGE scorer\n",
    "    rouge = rouge_scorer.RougeScorer(['rouge1', 'rouge2', 'rougeL'], use_stemmer=True)\n",
    "\n",
    "    # Lists to store the ROUGE scores\n",
    "    rouge1_scores = []\n",
    "    rouge2_scores = []\n",
    "    rougeL_scores = []\n",
    "\n",
    "    for _, row in df.iterrows():\n",
    "        reference_summary = row['cleaned_highlights']\n",
    "        lexrank_summary = row['lexrank_summary']\n",
    "\n",
    "        # Check if reference_summary or lexrank_summary is None or empty\n",
    "        if reference_summary is None or lexrank_summary is None or reference_summary == \"\" or lexrank_summary == \"\":\n",
    "            # Append 0.0 for precision, recall, and fmeasure\n",
    "            None\n",
    "            \n",
    "        else:\n",
    "            # Calculate ROUGE scores\n",
    "            scores = rouge.score(lexrank_summary, reference_summary)\n",
    "\n",
    "            rouge1_scores.append([{\n",
    "                'precision': round(scores['rouge1'].precision, 2),\n",
    "                'recall': round(scores['rouge1'].recall, 2),\n",
    "                'fmeasure': round(scores['rouge1'].fmeasure, 2)\n",
    "            }])\n",
    "            \n",
    "            rouge2_scores.append([{\n",
    "                'precision': round(scores['rouge2'].precision, 2),\n",
    "                'recall': round(scores['rouge2'].recall, 2),\n",
    "                'fmeasure': round(scores['rouge2'].fmeasure, 2)\n",
    "            }])\n",
    "            \n",
    "            rougeL_scores.append([{\n",
    "                'precision': round(scores['rougeL'].precision, 2),\n",
    "                'recall': round(scores['rougeL'].recall, 2),\n",
    "                'fmeasure': round(scores['rougeL'].fmeasure, 2)\n",
    "            }])\n",
    "\n",
    "    df['rouge1'] = rouge1_scores\n",
    "    df['rouge2'] = rouge2_scores\n",
    "    df['rougeL'] = rougeL_scores\n",
    "    \n",
    "    # Print the ROUGE scores for the first row for debugging\n",
    "    print(\"Rouge1 Scores:\", rouge1_scores[0])\n",
    "    print(\"Rouge2 Scores:\", rouge2_scores[0])\n",
    "    print(\"RougeL Scores:\", rougeL_scores[0])"
   ]
  },
  {
   "cell_type": "code",
   "execution_count": 98,
   "id": "ec4efa19",
   "metadata": {},
   "outputs": [
    {
     "name": "stdout",
     "output_type": "stream",
     "text": [
      "Rouge1 Scores: [{'precision': 0.0, 'recall': 0.0, 'fmeasure': 0.0}]\n",
      "Rouge2 Scores: [{'precision': 0.0, 'recall': 0.0, 'fmeasure': 0.0}]\n",
      "RougeL Scores: [{'precision': 0.0, 'recall': 0.0, 'fmeasure': 0.0}]\n"
     ]
    }
   ],
   "source": [
    "# Calculate ROUGE scores for train dataset\n",
    "calculate_rouge_scores(cnn_train)"
   ]
  },
  {
   "cell_type": "code",
   "execution_count": 94,
   "id": "84f84cdc",
   "metadata": {},
   "outputs": [
    {
     "name": "stdout",
     "output_type": "stream",
     "text": [
      "Rouge1 Scores: [{'precision': 0.0, 'recall': 0.0, 'fmeasure': 0.0}]\n",
      "Rouge2 Scores: [{'precision': 0.0, 'recall': 0.0, 'fmeasure': 0.0}]\n",
      "RougeL Scores: [{'precision': 0.0, 'recall': 0.0, 'fmeasure': 0.0}]\n"
     ]
    }
   ],
   "source": [
    "# Calculate ROUGE scores for test dataset\n",
    "calculate_rouge_scores(cnn_test)"
   ]
  },
  {
   "cell_type": "code",
   "execution_count": 95,
   "id": "1d5eaf1d",
   "metadata": {},
   "outputs": [
    {
     "name": "stdout",
     "output_type": "stream",
     "text": [
      "Rouge1 Scores: [{'precision': 0.0, 'recall': 0.0, 'fmeasure': 0.0}]\n",
      "Rouge2 Scores: [{'precision': 0.0, 'recall': 0.0, 'fmeasure': 0.0}]\n",
      "RougeL Scores: [{'precision': 0.0, 'recall': 0.0, 'fmeasure': 0.0}]\n"
     ]
    }
   ],
   "source": [
    "# Calculate ROUGE scores for validation dataset\n",
    "calculate_rouge_scores(cnn_val)"
   ]
  },
  {
   "cell_type": "code",
   "execution_count": null,
   "id": "ef1346b9",
   "metadata": {},
   "outputs": [],
   "source": [
    "# Save the train dataset with ROUGE scores\n",
    "cnn_train.to_csv(\"cnn_train_with_rouge_scores.csv\", index=False)\n",
    "\n",
    "# Save the test dataset with ROUGE scores\n",
    "cnn_test.to_csv(\"cnn_test_with_rouge_scores.csv\", index=False)\n",
    "\n",
    "# Save the validation dataset with ROUGE scores\n",
    "cnn_val.to_csv(\"cnn_val_with_rouge_scores.csv\", index=False)"
   ]
  },
  {
   "cell_type": "markdown",
   "id": "9eb58f40",
   "metadata": {},
   "source": [
    "### Latent Semantic Analysis"
   ]
  },
  {
   "cell_type": "code",
   "execution_count": 71,
   "id": "7f8abc4f",
   "metadata": {},
   "outputs": [],
   "source": [
    "# Create a TF-IDF vectorizer\n",
    "tfidf_vectorizer = TfidfVectorizer()\n",
    "\n",
    "# Fit and transform the article and highlights text\n",
    "tfidf_matrix_article = tfidf_vectorizer.fit_transform(cnn_train['cleaned_article'])\n",
    "tfidf_matrix_highlights = tfidf_vectorizer.fit_transform(cnn_train['cleaned_highlights'])"
   ]
  },
  {
   "cell_type": "code",
   "execution_count": 72,
   "id": "8693c4a8",
   "metadata": {},
   "outputs": [],
   "source": [
    "# Define the number of components (latent factors)\n",
    "n_components = 100  \n",
    "\n",
    "# Perform Truncated SVD on the TF-IDF matrices\n",
    "lsa_article = TruncatedSVD(n_components)\n",
    "lsa_highlights = TruncatedSVD(n_components)\n",
    "\n",
    "lsa_matrix_article = lsa_article.fit_transform(tfidf_matrix_article)\n",
    "lsa_matrix_highlights = lsa_highlights.fit_transform(tfidf_matrix_highlights)"
   ]
  },
  {
   "cell_type": "code",
   "execution_count": 73,
   "id": "50b29501",
   "metadata": {},
   "outputs": [
    {
     "data": {
      "image/png": "[encoded data removed]",
      "text/plain": [
       "<Figure size 864x432 with 2 Axes>"
      ]
     },
     "metadata": {
      "needs_background": "light"
     },
     "output_type": "display_data"
    }
   ],
   "source": [
    "# Perform PCA on the LSA representations\n",
    "pca_article = PCA(n_components=2)\n",
    "pca_highlights = PCA(n_components=2)\n",
    "\n",
    "pca_matrix_article = pca_article.fit_transform(lsa_matrix_article)\n",
    "pca_matrix_highlights = pca_highlights.fit_transform(lsa_matrix_highlights)\n",
    "\n",
    "# Plot the PCA results\n",
    "plt.figure(figsize=(12, 6))\n",
    "plt.subplot(1, 2, 1)\n",
    "plt.scatter(pca_matrix_article[:, 0], pca_matrix_article[:, 1])\n",
    "plt.title('PCA for LSA Article Representation (Train)')\n",
    "\n",
    "plt.subplot(1, 2, 2)\n",
    "plt.scatter(pca_matrix_highlights[:, 0], pca_matrix_highlights[:, 1])\n",
    "plt.title('PCA for LSA Highlights Representation (Train)')\n",
    "\n",
    "plt.show()"
   ]
  },
  {
   "cell_type": "code",
   "execution_count": 74,
   "id": "9783b662",
   "metadata": {},
   "outputs": [],
   "source": [
    "# Create a TF-IDF vectorizer\n",
    "tfidf_vectorizer = TfidfVectorizer()\n",
    "\n",
    "# Fit and transform the article and highlights text\n",
    "tfidf_matrix_article = tfidf_vectorizer.fit_transform(cnn_test['cleaned_article'])\n",
    "tfidf_matrix_highlights = tfidf_vectorizer.fit_transform(cnn_test['cleaned_highlights'])"
   ]
  },
  {
   "cell_type": "code",
   "execution_count": 75,
   "id": "a53871d1",
   "metadata": {},
   "outputs": [],
   "source": [
    "# Define the number of components (latent factors)\n",
    "n_components = 100  \n",
    "\n",
    "# Perform Truncated SVD on the TF-IDF matrices\n",
    "lsa_article = TruncatedSVD(n_components)\n",
    "lsa_highlights = TruncatedSVD(n_components)\n",
    "\n",
    "lsa_matrix_article = lsa_article.fit_transform(tfidf_matrix_article)\n",
    "lsa_matrix_highlights = lsa_highlights.fit_transform(tfidf_matrix_highlights)"
   ]
  },
  {
   "cell_type": "code",
   "execution_count": 76,
   "id": "206b05de",
   "metadata": {},
   "outputs": [
    {
     "data": {
      "image/png": "[encoded data removed]",
      "text/plain": [
       "<Figure size 864x432 with 2 Axes>"
      ]
     },
     "metadata": {
      "needs_background": "light"
     },
     "output_type": "display_data"
    }
   ],
   "source": [
    "# Perform PCA on the LSA representations\n",
    "pca_article = PCA(n_components=2)\n",
    "pca_highlights = PCA(n_components=2)\n",
    "\n",
    "pca_matrix_article = pca_article.fit_transform(lsa_matrix_article)\n",
    "pca_matrix_highlights = pca_highlights.fit_transform(lsa_matrix_highlights)\n",
    "\n",
    "# Plot the PCA results\n",
    "plt.figure(figsize=(12, 6))\n",
    "plt.subplot(1, 2, 1)\n",
    "plt.scatter(pca_matrix_article[:, 0], pca_matrix_article[:, 1])\n",
    "plt.title('PCA for LSA Article Representation (Test)')\n",
    "\n",
    "plt.subplot(1, 2, 2)\n",
    "plt.scatter(pca_matrix_highlights[:, 0], pca_matrix_highlights[:, 1])\n",
    "plt.title('PCA for LSA Highlights Representation (Test)')\n",
    "\n",
    "plt.show()"
   ]
  },
  {
   "cell_type": "code",
   "execution_count": 77,
   "id": "d05e7028",
   "metadata": {},
   "outputs": [],
   "source": [
    "# Create a TF-IDF vectorizer\n",
    "tfidf_vectorizer = TfidfVectorizer()\n",
    "\n",
    "# Fit and transform the article and highlights text\n",
    "tfidf_matrix_article = tfidf_vectorizer.fit_transform(cnn_val['cleaned_article'])\n",
    "tfidf_matrix_highlights = tfidf_vectorizer.fit_transform(cnn_val['cleaned_highlights'])"
   ]
  },
  {
   "cell_type": "code",
   "execution_count": 78,
   "id": "4ef8c628",
   "metadata": {},
   "outputs": [],
   "source": [
    "# Define the number of components (latent factors)\n",
    "n_components = 100  \n",
    "\n",
    "# Perform Truncated SVD on the TF-IDF matrices\n",
    "lsa_article = TruncatedSVD(n_components)\n",
    "lsa_highlights = TruncatedSVD(n_components)\n",
    "\n",
    "lsa_matrix_article = lsa_article.fit_transform(tfidf_matrix_article)\n",
    "lsa_matrix_highlights = lsa_highlights.fit_transform(tfidf_matrix_highlights)"
   ]
  },
  {
   "cell_type": "code",
   "execution_count": 79,
   "id": "fa89055e",
   "metadata": {},
   "outputs": [
    {
     "data": {
      "image/png": "[encoded data removed]",
      "text/plain": [
       "<Figure size 864x432 with 2 Axes>"
      ]
     },
     "metadata": {
      "needs_background": "light"
     },
     "output_type": "display_data"
    }
   ],
   "source": [
    "# Perform PCA on the LSA representations\n",
    "pca_article = PCA(n_components=2)\n",
    "pca_highlights = PCA(n_components=2)\n",
    "\n",
    "pca_matrix_article = pca_article.fit_transform(lsa_matrix_article)\n",
    "pca_matrix_highlights = pca_highlights.fit_transform(lsa_matrix_highlights)\n",
    "\n",
    "# Plot the PCA results\n",
    "plt.figure(figsize=(12, 6))\n",
    "plt.subplot(1, 2, 1)\n",
    "plt.scatter(pca_matrix_article[:, 0], pca_matrix_article[:, 1])\n",
    "plt.title('PCA for LSA Article Representation (Validation)')\n",
    "\n",
    "plt.subplot(1, 2, 2)\n",
    "plt.scatter(pca_matrix_highlights[:, 0], pca_matrix_highlights[:, 1])\n",
    "plt.title('PCA for LSA Highlights Representation (Validation)')\n",
    "\n",
    "plt.show()"
   ]
  },
  {
   "cell_type": "markdown",
   "id": "6cce2ea1",
   "metadata": {},
   "source": [
    "### LsaSummarizer (Latent Semantic Analysis)"
   ]
  },
  {
   "cell_type": "code",
   "execution_count": 80,
   "id": "db9b03b3",
   "metadata": {},
   "outputs": [],
   "source": [
    "def lsa_summarize(article, num_sentences):\n",
    "    # Tokenize the article into sentences\n",
    "    sentences = sent_tokenize(article)\n",
    "    \n",
    "    # Tokenize the entire article into words\n",
    "    words = word_tokenize(article)\n",
    "    \n",
    "    # Create a dictionary and a corpus\n",
    "    dictionary = corpora.Dictionary([words])\n",
    "    corpus = [dictionary.doc2bow(words)]\n",
    "    \n",
    "    # Create an LSA model\n",
    "    num_topics = 2  # You can adjust the number of topics as needed\n",
    "    lsa_model = gensim.models.LsiModel(corpus, id2word=dictionary, num_topics=num_topics)\n",
    "    \n",
    "    # Calculate LSA scores for each sentence\n",
    "    sentence_scores = {}\n",
    "\n",
    "    for sentence in sentences:\n",
    "        # Tokenize the sentence into words and convert to lowercase\n",
    "        sentence_words = word_tokenize(sentence.lower())\n",
    "        \n",
    "        # Calculate the LSA vector for the sentence\n",
    "        sentence_bow = dictionary.doc2bow(sentence_words)\n",
    "        lsa_vector = lsa_model[sentence_bow]\n",
    "        \n",
    "        # Calculate the LSA score as the sum of absolute values of vector components\n",
    "        score = sum(abs(value) for _, value in lsa_vector)\n",
    "        \n",
    "        # Store the score for the sentence\n",
    "        sentence_scores[sentence] = score\n",
    "\n",
    "    # Get the top 'num_sentences' sentences with the highest scores\n",
    "    summary_sentences = nlargest(num_sentences, sentence_scores, key=sentence_scores.get)\n",
    "\n",
    "    # Combine the selected sentences to create the summary\n",
    "    summary = ' '.join(summary_sentences)\n",
    "    \n",
    "    return summary"
   ]
  },
  {
   "cell_type": "code",
   "execution_count": null,
   "id": "fb1b9deb",
   "metadata": {},
   "outputs": [],
   "source": [
    "# Apply LSA summarization to each article in the training dataset and store summaries\n",
    "cnn_train['lsa_summary'] = cnn_train['cleaned_article'].apply(lambda x: lsa_summarize(x, num_sentences=3))\n",
    "\n",
    "# Apply LSA summarization to each article in the testing dataset and store summaries\n",
    "cnn_test['lsa_summary'] = cnn_test['cleaned_article'].apply(lambda x: lsa_summarize(x, num_sentences=3))\n",
    "\n",
    "# Apply LSA summarization to each article in the validation dataset and store summaries\n",
    "cnn_val['lsa_summary'] = cnn_val['cleaned_article'].apply(lambda x: lsa_summarize(x, num_sentences=3))"
   ]
  },
  {
   "cell_type": "code",
   "execution_count": null,
   "id": "f032ef65",
   "metadata": {},
   "outputs": [],
   "source": [
    "# Define a function to calculate ROUGE scores\n",
    "def calculate_rouge_scores(df):\n",
    "    # Initialize the ROUGE scorer\n",
    "    rouge = rouge_scorer.RougeScorer(['rouge1', 'rouge2', 'rougeL'], use_stemmer=True)\n",
    "\n",
    "    # Lists to store the ROUGE scores\n",
    "    rouge1_scores = []\n",
    "    rouge2_scores = []\n",
    "    rougeL_scores = []\n",
    "\n",
    "    for _, row in df.iterrows():\n",
    "        reference_summary = row['cleaned_highlights']\n",
    "        lsa_summary = row['lsa_summary']\n",
    "\n",
    "        # Check if reference_summary or lsa_summary is None or empty\n",
    "        if reference_summary is None or lsa_summary is None or reference_summary == \"\" or lsa_summary == \"\":\n",
    "            # Append 0.0 for precision, recall, and fmeasure\n",
    "            rouge1_scores.append({'precision': 0.0, 'recall': 0.0, 'fmeasure': 0.0})\n",
    "            rouge2_scores.append({'precision': 0.0, 'recall': 0.0, 'fmeasure': 0.0})\n",
    "            rougeL_scores.append({'precision': 0.0, 'recall': 0.0, 'fmeasure': 0.0})\n",
    "        else:\n",
    "            # Calculate ROUGE scores\n",
    "            scores = rouge.score(luhn_summary, reference_summary)\n",
    "\n",
    "            rouge1_scores.append({\n",
    "                'precision': round(scores['rouge1'].precision, 2),\n",
    "                'recall': round(scores['rouge1'].recall, 2),\n",
    "                'fmeasure': round(scores['rouge1'].fmeasure, 2)\n",
    "            })\n",
    "            \n",
    "            rouge2_scores.append({\n",
    "                'precision': round(scores['rouge2'].precision, 2),\n",
    "                'recall': round(scores['rouge2'].recall, 2),\n",
    "                'fmeasure': round(scores['rouge2'].fmeasure, 2)\n",
    "            })\n",
    "            \n",
    "            rougeL_scores.append({\n",
    "                'precision': round(scores['rougeL'].precision, 2),\n",
    "                'recall': round(scores['rougeL'].recall, 2),\n",
    "                'fmeasure': round(scores['rougeL'].fmeasure, 2)\n",
    "            })\n",
    "\n",
    "    df['rouge1'] = rouge1_scores\n",
    "    df['rouge2'] = rouge2_scores\n",
    "    df['rougeL'] = rougeL_scores\n",
    "    \n",
    "    # Print the ROUGE scores for the first row for debugging\n",
    "    print(\"Rouge1 Scores:\", rouge1_scores[0])\n",
    "    print(\"Rouge2 Scores:\", rouge2_scores[0])\n",
    "    print(\"RougeL Scores:\", rougeL_scores[0])"
   ]
  },
  {
   "cell_type": "code",
   "execution_count": null,
   "id": "10ca0deb",
   "metadata": {},
   "outputs": [],
   "source": [
    "# Calculate ROUGE scores for train dataset\n",
    "calculate_rouge_scores(cnn_train)"
   ]
  },
  {
   "cell_type": "code",
   "execution_count": null,
   "id": "4c9bdea2",
   "metadata": {},
   "outputs": [],
   "source": [
    "# Calculate ROUGE scores for test dataset\n",
    "calculate_rouge_scores(cnn_test)"
   ]
  },
  {
   "cell_type": "code",
   "execution_count": null,
   "id": "dc832be3",
   "metadata": {},
   "outputs": [],
   "source": [
    "# Calculate ROUGE scores for validation dataset\n",
    "calculate_rouge_scores(cnn_val)"
   ]
  },
  {
   "cell_type": "code",
   "execution_count": null,
   "id": "bc5d9e8a",
   "metadata": {},
   "outputs": [],
   "source": []
  }
 ],
 "metadata": {
  "kernelspec": {
   "display_name": "Python 3 (ipykernel)",
   "language": "python",
   "name": "python3"
  },
  "language_info": {
   "codemirror_mode": {
    "name": "ipython",
    "version": 3
   },
   "file_extension": ".py",
   "mimetype": "text/x-python",
   "name": "python",
   "nbconvert_exporter": "python",
   "pygments_lexer": "ipython3",
   "version": "3.9.12"
  }
 },
 "nbformat": 4,
 "nbformat_minor": 5
}
