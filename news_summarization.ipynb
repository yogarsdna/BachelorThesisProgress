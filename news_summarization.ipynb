{
 "cells": [
  {
   "cell_type": "code",
   "execution_count": 1,
   "id": "c1e8f7cc",
   "metadata": {},
   "outputs": [
    {
     "name": "stderr",
     "output_type": "stream",
     "text": [
      "D:\\anaconda3\\lib\\site-packages\\tqdm\\auto.py:22: TqdmWarning: IProgress not found. Please update jupyter and ipywidgets. See https://ipywidgets.readthedocs.io/en/stable/user_install.html\n",
      "  from .autonotebook import tqdm as notebook_tqdm\n",
      "[nltk_data] Downloading package punkt to\n",
      "[nltk_data]     C:\\Users\\Yoga\\AppData\\Roaming\\nltk_data...\n",
      "[nltk_data]   Package punkt is already up-to-date!\n"
     ]
    },
    {
     "data": {
      "text/plain": [
       "True"
      ]
     },
     "execution_count": 1,
     "metadata": {},
     "output_type": "execute_result"
    }
   ],
   "source": [
    "import nltk\n",
    "import numpy as np\n",
    "import pandas as pd\n",
    "import networkx as nx\n",
    "import tensorflow as tf\n",
    "import matplotlib.pyplot as plt\n",
    "import tensorflow_datasets as tfds\n",
    "from heapq import nlargest\n",
    "from collections import Counter\n",
    "from nltk.corpus import stopwords\n",
    "from rouge_score import rouge_scorer\n",
    "from nltk import sent_tokenize, word_tokenize\n",
    "from sklearn.decomposition import PCA, TruncatedSVD\n",
    "from sklearn.metrics.pairwise import cosine_similarity\n",
    "from tensorflow.keras.preprocessing.text import Tokenizer\n",
    "from tensorflow.keras.preprocessing.sequence import pad_sequences\n",
    "from nltk.translate.bleu_score import sentence_bleu, corpus_bleu\n",
    "from sklearn.feature_extraction.text import TfidfVectorizer, CountVectorizer\n",
    "nltk.download('punkt')"
   ]
  },
  {
   "cell_type": "code",
   "execution_count": 2,
   "id": "0656e6a7",
   "metadata": {},
   "outputs": [],
   "source": [
    "df = pd.read_csv('news_summarization.csv')"
   ]
  },
  {
   "cell_type": "code",
   "execution_count": 3,
   "id": "10fc7a39",
   "metadata": {
    "scrolled": true
   },
   "outputs": [
    {
     "data": {
      "text/plain": [
       "Index(['Unnamed: 0', 'ID', 'Content', 'Summary', 'Dataset'], dtype='object')"
      ]
     },
     "execution_count": 3,
     "metadata": {},
     "output_type": "execute_result"
    }
   ],
   "source": [
    "df.columns"
   ]
  },
  {
   "cell_type": "code",
   "execution_count": 4,
   "id": "abd3156d",
   "metadata": {},
   "outputs": [],
   "source": [
    "df.drop([\"Unnamed: 0\", \"ID\", \"Dataset\"], axis=1, inplace=True)"
   ]
  },
  {
   "cell_type": "code",
   "execution_count": 5,
   "id": "49e3d961",
   "metadata": {},
   "outputs": [
    {
     "data": {
      "text/plain": [
       "Index(['Content', 'Summary'], dtype='object')"
      ]
     },
     "execution_count": 5,
     "metadata": {},
     "output_type": "execute_result"
    }
   ],
   "source": [
    "df.columns"
   ]
  },
  {
   "cell_type": "markdown",
   "id": "4b43640a",
   "metadata": {},
   "source": [
    "## <center>Data Cleaning</center>"
   ]
  },
  {
   "cell_type": "code",
   "execution_count": 6,
   "id": "06069265",
   "metadata": {},
   "outputs": [],
   "source": [
    "def remove_stopwords(text):\n",
    "    if pd.notna(text):\n",
    "        # Tokenize the text into words\n",
    "        words = text.split()\n",
    "\n",
    "        # Remove stop words\n",
    "        stop_words = set(stopwords.words('english'))\n",
    "        words = [word for word in words if word not in stop_words]\n",
    "\n",
    "        # Join the words back into cleaned text\n",
    "        cleaned_text = ' '.join(words)\n",
    "\n",
    "        return cleaned_text\n",
    "    \n",
    "    else:\n",
    "        return text"
   ]
  },
  {
   "cell_type": "code",
   "execution_count": 7,
   "id": "66af4efe",
   "metadata": {},
   "outputs": [],
   "source": [
    "df['Content'] = df['Content'].apply(remove_stopwords)\n",
    "df['Summary'] = df['Summary'].apply(remove_stopwords)"
   ]
  },
  {
   "cell_type": "code",
   "execution_count": 8,
   "id": "358f9f2f",
   "metadata": {},
   "outputs": [
    {
     "name": "stdout",
     "output_type": "stream",
     "text": [
      "       Content                                            Summary\n",
      "10839      NaN     Images courtesy AFP, EPA, Getty Images Reuters\n",
      "14701      NaN  President Barack Obama arrived Cuba historic v...\n",
      "45600      NaN  Our selection best news photographs taken arou...\n",
      "89037      NaN  Here full list winners nominees 2017 Bafta TV ...\n",
      "99783      NaN                       All photographs copyrighted.\n",
      "118847     NaN  Following news Birmingham City Council's child...\n",
      "142166     NaN  Our selection best news photographs taken arou...\n",
      "158232     NaN             A selection photos across Africa week:\n",
      "189368     NaN  Lebanon placed new restrictions Syrians enteri...\n",
      "194150     NaN                 All photographs subject copyright.\n",
      "267224     NaN  Nigeria's commercial capital, Lagos, makeover ...\n",
      "269158     NaN  A selection photos across African continent week:\n",
      "283567     NaN  Our selection best news photographs taken arou...\n",
      "285807     NaN                All photographs © Press Association\n",
      "292472     NaN  Rioting broken US town Ferguson, Missouri, fol...\n",
      "402394     NaN  A selection photos across African continent week:\n",
      "475751     NaN  The winners 2017 Architectural Review MIPIM Fu...\n",
      "523196     NaN  As part latest series African Dream, businessw...\n",
      "526744     NaN  Following stabbing Russell Square London, know...\n",
      "528954     NaN  A selection striking news images African conti...\n",
      "561821     NaN  The old year went bang Edinburgh's fireworks d...\n",
      "612546     NaN  Party leaders touring UK last day campaigning ...\n",
      "629789     NaN  Harvesting work nearly done Glaisters Farm Kir...\n",
      "634630     NaN  As Israel Palestinians prepare US-brokered pea...\n",
      "641071     NaN  Highlights year's National Television Awards, ...\n",
      "652193     NaN  Here key dates long-running investigation deat...\n",
      "730928     NaN  It's long, unpredictable US election yet - Cli...\n",
      "760924     NaN  Gallipoli centenary ceremonies held UK, Austra...\n",
      "763851     NaN                       All photographs copyrighted.\n",
      "776073     NaN  Here breakdown, local authority, percentage pu...\n",
      "813614     NaN   The winners full nominations year's Brit Awards:\n",
      "840237     NaN  There celebrations ceremonies Pakistan marks 7...\n",
      "846300     NaN  This article, looked human cost use atomic bom...\n",
      "855599     NaN      All photographs Â© John Vink / Magnum Photos.\n"
     ]
    }
   ],
   "source": [
    "nan_rows = df[df['Content'].isna()]\n",
    "print(nan_rows)"
   ]
  },
  {
   "cell_type": "code",
   "execution_count": 9,
   "id": "fdab5864",
   "metadata": {},
   "outputs": [],
   "source": [
    "df = df.dropna(subset=['Content'])"
   ]
  },
  {
   "cell_type": "code",
   "execution_count": 10,
   "id": "b954ee8f",
   "metadata": {},
   "outputs": [
    {
     "name": "stdout",
     "output_type": "stream",
     "text": [
      "Empty DataFrame\n",
      "Columns: [Content, Summary]\n",
      "Index: []\n"
     ]
    }
   ],
   "source": [
    "nan_rows = df[df['Content'].isna()]\n",
    "print(nan_rows)"
   ]
  },
  {
   "cell_type": "markdown",
   "id": "321bdf65",
   "metadata": {},
   "source": [
    "## <center>Split Dataset</center>"
   ]
  },
  {
   "cell_type": "code",
   "execution_count": 8,
   "id": "2ab9a899",
   "metadata": {},
   "outputs": [],
   "source": [
    "train_percentage = 0.7 \n",
    "test_percentage = 0.15\n",
    "validation_percentage = 0.15\n",
    "\n",
    "train_df, temp_df = train_test_split(df, test_size = 1 - train_percentage, random_state = 42)\n",
    "\n",
    "test_df, val_df = train_test_split(temp_df, test_size = validation_percentage / (validation_percentage + test_percentage), random_state = 42)"
   ]
  },
  {
   "cell_type": "markdown",
   "id": "e74fe0ff",
   "metadata": {},
   "source": [
    "## <center>Techniques</center>"
   ]
  },
  {
   "cell_type": "markdown",
   "id": "e51a7a29",
   "metadata": {},
   "source": [
    "### Luhn Method"
   ]
  },
  {
   "cell_type": "code",
   "execution_count": 39,
   "id": "788c3e96",
   "metadata": {},
   "outputs": [],
   "source": [
    "def luhn_summarize(article, num_sentences):\n",
    "    # Tokenize the article into sentences\n",
    "    sentences = sent_tokenize(article)\n",
    "    \n",
    "    # Tokenize the entire article into words\n",
    "    words = word_tokenize(article)\n",
    "    \n",
    "    # Calculate word frequencies using Counter\n",
    "    word_frequencies = Counter(words)\n",
    "\n",
    "    # Initialize a dictionary to store sentence scores\n",
    "    sentence_scores = {}\n",
    "\n",
    "    # Calculate scores for each sentence\n",
    "    for sentence in sentences:\n",
    "        # Tokenize the sentence into words and convert to lowercase\n",
    "        for word in word_tokenize(sentence.lower()):\n",
    "            # Check if the word is in the word frequencies\n",
    "            if word in word_frequencies:\n",
    "                # If the sentence is not in the scores dictionary, initialize it\n",
    "                if sentence not in sentence_scores:\n",
    "                    sentence_scores[sentence] = word_frequencies[word]\n",
    "                else:\n",
    "                    # If the sentence is already in the dictionary, add the word's frequency\n",
    "                    sentence_scores[sentence] += word_frequencies[word]\n",
    "\n",
    "    # Get the top 'num_sentences' sentences with the highest scores\n",
    "    summary_sentences = nlargest(num_sentences, sentence_scores, key=sentence_scores.get)\n",
    "\n",
    "    # Combine the selected sentences to create the summary\n",
    "    summary = ' '.join(summary_sentences)\n",
    "    \n",
    "    return summary"
   ]
  },
  {
   "cell_type": "code",
   "execution_count": 40,
   "id": "f5d087bb",
   "metadata": {},
   "outputs": [],
   "source": [
    "# Apply Luhn Method to each article in the training dataset and store summaries\n",
    "train_df['luhn_summary'] = train_df['Content'].apply(lambda x: luhn_summarize(x, num_sentences=3))\n",
    "\n",
    "# Apply Luhn Method to each article in the testing dataset and store summaries\n",
    "test_df['luhn_summary'] = test_df['Content'].apply(lambda x: luhn_summarize(x, num_sentences=3))\n",
    "\n",
    "# Apply Luhn Method to each article in the validation dataset and store summaries\n",
    "val_df['luhn_summary'] = val_df['Content'].apply(lambda x: luhn_summarize(x, num_sentences=3))"
   ]
  },
  {
   "cell_type": "code",
   "execution_count": null,
   "id": "896640a9",
   "metadata": {},
   "outputs": [],
   "source": [
    "# Save the results to new CSV files for each dataset\n",
    "train_df.to_csv(\"cnn_train_with_luhn_summaries.csv\", index=False)\n",
    "test_df.to_csv(\"cnn_test_with_luhn_summaries.csv\", index=False)\n",
    "val_df.to_csv(\"cnn_val_with_luhn_summaries.csv\", index=False)"
   ]
  },
  {
   "cell_type": "code",
   "execution_count": 46,
   "id": "b3406a52",
   "metadata": {},
   "outputs": [],
   "source": [
    "# Define a function to calculate ROUGE scores\n",
    "def calculate_rouge_scores(df):\n",
    "    # Initialize the ROUGE scorer\n",
    "    rouge = rouge_scorer.RougeScorer(['rouge1', 'rouge2', 'rougeL'], use_stemmer=True)\n",
    "\n",
    "    # Lists to store the ROUGE scores\n",
    "    rouge1_scores = []\n",
    "    rouge2_scores = []\n",
    "    rougeL_scores = []\n",
    "\n",
    "    for _, row in df.iterrows():\n",
    "        reference_summary = row['Summary']\n",
    "        luhn_summary = row['luhn_summary']\n",
    "\n",
    "        # Check if reference_summary or luhn_summary is None or empty\n",
    "        if reference_summary is None or luhn_summary is None or reference_summary == \"\" or luhn_summary == \"\":\n",
    "            # Append 0.0 for precision, recall, and fmeasure\n",
    "            rouge1_scores.append([{'precision': 0.0, 'recall': 0.0, 'fmeasure': 0.0}])\n",
    "            rouge2_scores.append([{'precision': 0.0, 'recall': 0.0, 'fmeasure': 0.0}])\n",
    "            rougeL_scores.append([{'precision': 0.0, 'recall': 0.0, 'fmeasure': 0.0}])\n",
    "            \n",
    "        else:\n",
    "            # Calculate ROUGE scores\n",
    "            scores = rouge.score(luhn_summary, reference_summary)\n",
    "\n",
    "            rouge1_scores.append([{\n",
    "                'precision': round(scores['rouge1'].precision, 2),\n",
    "                'recall': round(scores['rouge1'].recall, 2),\n",
    "                'fmeasure': round(scores['rouge1'].fmeasure, 2)\n",
    "            }])\n",
    "            \n",
    "            rouge2_scores.append([{\n",
    "                'precision': round(scores['rouge2'].precision, 2),\n",
    "                'recall': round(scores['rouge2'].recall, 2),\n",
    "                'fmeasure': round(scores['rouge2'].fmeasure, 2)\n",
    "            }])\n",
    "            \n",
    "            rougeL_scores.append([{\n",
    "                'precision': round(scores['rougeL'].precision, 2),\n",
    "                'recall': round(scores['rougeL'].recall, 2),\n",
    "                'fmeasure': round(scores['rougeL'].fmeasure, 2)\n",
    "            }])\n",
    "\n",
    "    df['rouge1'] = rouge1_scores\n",
    "    df['rouge2'] = rouge2_scores\n",
    "    df['rougeL'] = rougeL_scores\n",
    "    \n",
    "    # Print the ROUGE scores for the first row for debugging\n",
    "    print(\"Rouge1 Scores:\", rouge1_scores[0])\n",
    "    print(\"Rouge2 Scores:\", rouge2_scores[0])\n",
    "    print(\"RougeL Scores:\", rougeL_scores[0])"
   ]
  },
  {
   "cell_type": "code",
   "execution_count": 47,
   "id": "36f3fda5",
   "metadata": {},
   "outputs": [
    {
     "name": "stdout",
     "output_type": "stream",
     "text": [
      "Rouge1 Scores: [{'precision': 0.21, 'recall': 0.09, 'fmeasure': 0.13}]\n",
      "Rouge2 Scores: [{'precision': 0.0, 'recall': 0.0, 'fmeasure': 0.0}]\n",
      "RougeL Scores: [{'precision': 0.17, 'recall': 0.07, 'fmeasure': 0.1}]\n"
     ]
    }
   ],
   "source": [
    "# Calculate ROUGE scores for train dataset\n",
    "calculate_rouge_scores(train_df)"
   ]
  },
  {
   "cell_type": "code",
   "execution_count": 48,
   "id": "c8cc5e06",
   "metadata": {},
   "outputs": [
    {
     "name": "stdout",
     "output_type": "stream",
     "text": [
      "Rouge1 Scores: [{'precision': 0.2, 'recall': 0.11, 'fmeasure': 0.15}]\n",
      "Rouge2 Scores: [{'precision': 0.03, 'recall': 0.02, 'fmeasure': 0.02}]\n",
      "RougeL Scores: [{'precision': 0.17, 'recall': 0.1, 'fmeasure': 0.12}]\n"
     ]
    }
   ],
   "source": [
    "# Calculate ROUGE scores for test dataset\n",
    "calculate_rouge_scores(test_df)"
   ]
  },
  {
   "cell_type": "code",
   "execution_count": 49,
   "id": "e5bc99d4",
   "metadata": {},
   "outputs": [
    {
     "name": "stdout",
     "output_type": "stream",
     "text": [
      "Rouge1 Scores: [{'precision': 0.42, 'recall': 0.11, 'fmeasure': 0.17}]\n",
      "Rouge2 Scores: [{'precision': 0.09, 'recall': 0.02, 'fmeasure': 0.04}]\n",
      "RougeL Scores: [{'precision': 0.33, 'recall': 0.09, 'fmeasure': 0.14}]\n"
     ]
    }
   ],
   "source": [
    "# Calculate ROUGE scores for validation dataset\n",
    "calculate_rouge_scores(val_df)"
   ]
  },
  {
   "cell_type": "code",
   "execution_count": null,
   "id": "27165278",
   "metadata": {},
   "outputs": [],
   "source": [
    "# Save the train dataset with ROUGE scores\n",
    "train_df.to_csv(\"cnn_test_with_rouge_scores.csv\", index=False)\n",
    "\n",
    "# Save the test dataset with ROUGE scores\n",
    "test_df.to_csv(\"cnn_test_with_rouge_scores.csv\", index=False)\n",
    "\n",
    "# Save the validation dataset with ROUGE scores\n",
    "val_df.to_csv(\"cnn_val_with_rouge_scores.csv\", index=False)"
   ]
  },
  {
   "cell_type": "markdown",
   "id": "72aadf86",
   "metadata": {},
   "source": [
    "### TextRank"
   ]
  },
  {
   "cell_type": "code",
   "execution_count": 60,
   "id": "d45911e4",
   "metadata": {},
   "outputs": [],
   "source": [
    "from nltk.tokenize import sent_tokenize, word_tokenize\n",
    "from nltk.corpus import stopwords\n",
    "from nltk.probability import FreqDist\n",
    "from sklearn.metrics.pairwise import cosine_similarity\n",
    "from sklearn.feature_extraction.text import CountVectorizer\n",
    "from nltk.cluster.util import cosine_distance\n",
    "import numpy as np\n",
    "import networkx as nx\n",
    "\n",
    "def textrank_summarize(article, num_sentences):\n",
    "    # Tokenize the article into sentences\n",
    "    sentences = sent_tokenize(article)\n",
    "\n",
    "    # Vectorize sentences using CountVectorizer\n",
    "    vectorizer = CountVectorizer()\n",
    "    X = vectorizer.fit_transform(sentences)\n",
    "    vectors = X.toarray()\n",
    "\n",
    "    # Calculate cosine similarity between sentence vectors\n",
    "    similarity_matrix = cosine_similarity(vectors, vectors)\n",
    "\n",
    "    # Create a graph representation of sentences\n",
    "    sentence_graph = nx.Graph()\n",
    "    for i in range(len(sentences)):\n",
    "        for j in range(len(sentences)):\n",
    "            if i != j:\n",
    "                sentence_graph.add_edge(i, j, weight=similarity_matrix[i][j])\n",
    "\n",
    "    # Calculate TextRank scores\n",
    "    scores = nx.pagerank(sentence_graph)\n",
    "\n",
    "    # Sort sentences by their TextRank scores\n",
    "    ranked_sentences = sorted(((scores[i], sentence) for i, sentence in enumerate(sentences)), reverse=True)\n",
    "\n",
    "    # Get the top 'num_sentences' sentences for the summary\n",
    "    summary_sentences = [sentence for score, sentence in ranked_sentences[:num_sentences]]\n",
    "\n",
    "    # Combine selected sentences into the summary\n",
    "    summary = ' '.join(summary_sentences)\n",
    "    return summary"
   ]
  },
  {
   "cell_type": "code",
   "execution_count": null,
   "id": "dbd55b59",
   "metadata": {},
   "outputs": [],
   "source": [
    "# Apply TextRank summarization to the train dataset\n",
    "train_df['textrank_summary'] = train_df['Content'].apply(lambda x: textrank_summarize(x, num_sentences=3))\n",
    "\n",
    "# Apply TextRank summarization to the test dataset\n",
    "test_df['textrank_summary'] = test_df['Content'].apply(lambda x: textrank_summarize(x, num_sentences=3))\n",
    "\n",
    "# Apply TextRank summarization to the validation dataset\n",
    "val_df['textrank_summary'] = val_df['Content'].apply(lambda x: textrank_summarize(x, num_sentences=3))"
   ]
  },
  {
   "cell_type": "code",
   "execution_count": null,
   "id": "17835da6",
   "metadata": {},
   "outputs": [],
   "source": []
  },
  {
   "cell_type": "code",
   "execution_count": null,
   "id": "f1c4af96",
   "metadata": {},
   "outputs": [],
   "source": []
  },
  {
   "cell_type": "code",
   "execution_count": null,
   "id": "0cfb0608",
   "metadata": {},
   "outputs": [],
   "source": []
  },
  {
   "cell_type": "code",
   "execution_count": null,
   "id": "d65d1793",
   "metadata": {},
   "outputs": [],
   "source": []
  },
  {
   "cell_type": "code",
   "execution_count": null,
   "id": "eaf28d1d",
   "metadata": {},
   "outputs": [],
   "source": []
  },
  {
   "cell_type": "markdown",
   "id": "23e9ba9f",
   "metadata": {},
   "source": [
    "### LexRank"
   ]
  },
  {
   "cell_type": "code",
   "execution_count": 11,
   "id": "032fa496",
   "metadata": {},
   "outputs": [],
   "source": [
    "from sklearn.feature_extraction.text import TfidfVectorizer\n",
    "from sklearn.metrics.pairwise import cosine_similarity\n",
    "from lexrank import LexRank\n",
    "from lexrank.mappings.stopwords import STOPWORDS\n",
    "from heapq import nlargest\n",
    "from nltk.tokenize import sent_tokenize, word_tokenize\n",
    "from collections import Counter\n",
    "\n",
    "def lexrank_summarize(article, num_sentences):\n",
    "    # Tokenize the article into sentences\n",
    "    sentences = sent_tokenize(article)\n",
    "    \n",
    "    # Vectorize the sentences using TF-IDF\n",
    "    tfidf_vectorizer = TfidfVectorizer()\n",
    "    tfidf_matrix = tfidf_vectorizer.fit_transform(sentences)\n",
    "\n",
    "    # Calculate similarity matrix using cosine similarity\n",
    "    sentence_similarity_matrix = cosine_similarity(tfidf_matrix)\n",
    "\n",
    "    # Apply LexRank\n",
    "    lx = LexRank(sentences, stopwords=STOPWORDS['en'])\n",
    "    summary = lx.get_summary(article, summary_size=num_sentences)\n",
    "\n",
    "    # Combine the selected sentences to create the summary\n",
    "    summary = ' '.join(summary)\n",
    "    \n",
    "    return summary"
   ]
  },
  {
   "cell_type": "code",
   "execution_count": null,
   "id": "50a723da",
   "metadata": {},
   "outputs": [],
   "source": [
    "# Apply LexRank to each article in the training dataset and store summaries\n",
    "train_df['lexrank_summary'] = train_df['Content'].apply(lambda x: lexrank_summarize(x, num_sentences=3))\n",
    "\n",
    "# Apply LexRank to each article in the testing dataset and store summaries\n",
    "test_df['lexrank_summary'] = test_df['Content'].apply(lambda x: lexrank_summarize(x, num_sentences=3))\n",
    "\n",
    "# Apply LexRank to each article in the validation dataset and store summaries\n",
    "val_df['lexrank_summary'] = val_df['Content'].apply(lambda x: lexrank_summarize(x, num_sentences=3))"
   ]
  },
  {
   "cell_type": "code",
   "execution_count": null,
   "id": "68cd632f",
   "metadata": {},
   "outputs": [],
   "source": []
  },
  {
   "cell_type": "code",
   "execution_count": null,
   "id": "9d4feb35",
   "metadata": {},
   "outputs": [],
   "source": []
  },
  {
   "cell_type": "code",
   "execution_count": null,
   "id": "4a0ec13c",
   "metadata": {},
   "outputs": [],
   "source": []
  },
  {
   "cell_type": "code",
   "execution_count": null,
   "id": "7d996e95",
   "metadata": {},
   "outputs": [],
   "source": []
  },
  {
   "cell_type": "code",
   "execution_count": null,
   "id": "3f02d126",
   "metadata": {},
   "outputs": [],
   "source": []
  },
  {
   "cell_type": "markdown",
   "id": "eda783ff",
   "metadata": {},
   "source": [
    "### Latent Semantic Analysis"
   ]
  },
  {
   "cell_type": "code",
   "execution_count": 14,
   "id": "c29359fc",
   "metadata": {},
   "outputs": [],
   "source": [
    "# Create a TF-IDF vectorizer\n",
    "tfidf_vectorizer = TfidfVectorizer()\n",
    "\n",
    "# Fit and transform the article and highlights text\n",
    "tfidf_matrix_content = tfidf_vectorizer.fit_transform(df['Content'])\n",
    "tfidf_matrix_summary = tfidf_vectorizer.fit_transform(df['Summary'])"
   ]
  },
  {
   "cell_type": "code",
   "execution_count": 16,
   "id": "1d02353d",
   "metadata": {},
   "outputs": [],
   "source": [
    "# Define the number of components (latent factors)\n",
    "n_components = 100  \n",
    "\n",
    "# Perform Truncated SVD on the TF-IDF matrices\n",
    "lsa_article = TruncatedSVD(n_components)\n",
    "lsa_highlights = TruncatedSVD(n_components)\n",
    "\n",
    "lsa_matrix_content = lsa_article.fit_transform(tfidf_matrix_content)\n",
    "lsa_matrix_summary = lsa_highlights.fit_transform(tfidf_matrix_summary)"
   ]
  },
  {
   "cell_type": "code",
   "execution_count": 20,
   "id": "8a6b1b0c",
   "metadata": {},
   "outputs": [
    {
     "data": {
      "image/png": "[encoded data removed]",
      "text/plain": [
       "<Figure size 864x432 with 2 Axes>"
      ]
     },
     "metadata": {
      "needs_background": "light"
     },
     "output_type": "display_data"
    }
   ],
   "source": [
    "# Perform PCA on the LSA representations\n",
    "pca_content = PCA(n_components=2)\n",
    "pca_summary = PCA(n_components=2)\n",
    "\n",
    "pca_matrix_content = pca_content.fit_transform(lsa_matrix_content)\n",
    "pca_matrix_summary = pca_summary.fit_transform(lsa_matrix_summary)\n",
    "\n",
    "# Plot the PCA results\n",
    "plt.figure(figsize=(12, 6))\n",
    "plt.subplot(1, 2, 1)\n",
    "plt.scatter(pca_matrix_content[:, 0], pca_matrix_content[:, 1])\n",
    "plt.title('PCA for LSA Article Representation')\n",
    "\n",
    "plt.subplot(1, 2, 2)\n",
    "plt.scatter(pca_matrix_summary[:, 0], pca_matrix_summary[:, 1])\n",
    "plt.title('PCA for LSA Highlights Representation')\n",
    "\n",
    "plt.show()"
   ]
  },
  {
   "cell_type": "markdown",
   "id": "8fbd6465",
   "metadata": {},
   "source": [
    "### LsaSummarizer (Latent Semantic Analysis)"
   ]
  },
  {
   "cell_type": "code",
   "execution_count": null,
   "id": "405da743",
   "metadata": {},
   "outputs": [],
   "source": []
  }
 ],
 "metadata": {
  "kernelspec": {
   "display_name": "Python 3 (ipykernel)",
   "language": "python",
   "name": "python3"
  },
  "language_info": {
   "codemirror_mode": {
    "name": "ipython",
    "version": 3
   },
   "file_extension": ".py",
   "mimetype": "text/x-python",
   "name": "python",
   "nbconvert_exporter": "python",
   "pygments_lexer": "ipython3",
   "version": "3.9.12"
  }
 },
 "nbformat": 4,
 "nbformat_minor": 5
}
